{
 "cells": [
  {
   "cell_type": "markdown",
   "id": "afd0210b-6ed7-40b0-b6f3-edca0c14b97f",
   "metadata": {},
   "source": [
    "## Programs consist of two parts\n",
    "- Code (Instructions)\n",
    "- Data (Starting conditions, User input, File input etc.)"
   ]
  },
  {
   "cell_type": "code",
   "execution_count": 1,
   "id": "56c17226-87c2-45ac-b106-d2ecb9e9b4da",
   "metadata": {},
   "outputs": [
    {
     "name": "stdin",
     "output_type": "stream",
     "text": [
      "What is your name?:  Kyle Schmerge\n"
     ]
    },
    {
     "name": "stdout",
     "output_type": "stream",
     "text": [
      "Hello, Kyle Schmerge. The time is 2024-10-04 11:17:31.159476 and the weather is Cloudy\n"
     ]
    }
   ],
   "source": [
    "import datetime\n",
    "\n",
    "# Input data - the current date, weather, and the user's name.\n",
    "todays_date = datetime.datetime.now()\n",
    "todays_weather = \"Cloudy\"\n",
    "name = input(\"What is your name?: \")\n",
    "\n",
    "# Print out data\n",
    "print(f\"Hello, {name}. The time is {todays_date} and the weather is {todays_weather}\")"
   ]
  },
  {
   "cell_type": "markdown",
   "id": "ffd6e98c-6692-481e-a367-573fef6be6f9",
   "metadata": {},
   "source": [
    "\n",
    "## But...\n",
    "What if we could treat code as data? :exploding_head:\n",
    "### Introducing Lambdas\n",
    "- Syntax: ```lambda <inputs> : <expression>```\n",
    "- Allows us to store functions as variables\n",
    "- Gets its name from lambda calculus\n",
    "- Important for so called \"functional programming\" (Not to be confused with programs that function)"
   ]
  },
  {
   "cell_type": "code",
   "execution_count": 4,
   "id": "c60e7a89-5002-49ac-a824-24c64deb5f74",
   "metadata": {},
   "outputs": [
    {
     "name": "stdout",
     "output_type": "stream",
     "text": [
      "1\n",
      "2\n",
      "4\n",
      "8\n",
      "16\n"
     ]
    }
   ],
   "source": [
    "# Lambda expression Demo\n",
    "x = 1\n",
    "print(x)\n",
    "\n",
    "# The variable `adder1` here is itself the function that takes in some y, adds one to it and returns the new value\n",
    "adder1 = lambda y : y + 1\n",
    "\n",
    "x = adder(x)\n",
    "print(x)\n",
    "\n",
    "# Just like `adder1` but this one adds 2\n",
    "adder2 = lambda y : y + 2\n",
    "\n",
    "x = adder2(x)\n",
    "print(x)\n",
    "\n",
    "# You can have multiple inputs\n",
    "adder3 = lambda y, z : y + z\n",
    "\n",
    "x = adder3(x, 4)\n",
    "print(x)\n",
    "\n",
    "# You can also have lambda expressions that return other lambda expressions\n",
    "# This gets kind of messy but it makes the pure math folks happy\n",
    "# adder(8) here evaluates to something like `lambda z : 8 + z` so adder(8)(x) evaluates to 8 + x\n",
    "adder4 = lambda y : lambda z : y + z\n",
    "\n",
    "x = adder4(8)(x)\n",
    "print(x)\n",
    "\n",
    "\n"
   ]
  },
  {
   "cell_type": "markdown",
   "id": "a1dc1352-81cd-4ba0-bb88-acf073ac06a4",
   "metadata": {},
   "source": [
    "## Ok, thats really cool, but how is this useful?\n",
    "consider the following bit of code"
   ]
  },
  {
   "cell_type": "code",
   "execution_count": 9,
   "id": "fe8a26fd-9f92-40c4-97ff-7a28e32844c2",
   "metadata": {},
   "outputs": [
    {
     "name": "stdout",
     "output_type": "stream",
     "text": [
      "[0, 1, 2, 3, 4, 5, 6, 7, 8, 9]\n",
      "[0, 200, 400, 600, 800]\n"
     ]
    }
   ],
   "source": [
    "list1 = [0, 1, 2, 3, 4, 5, 6, 7, 8, 9]\n",
    "print(list1)\n",
    "list2 = []\n",
    "for i in list1:\n",
    "    if i%2 == 0:\n",
    "        i2 = i * 100\n",
    "        list2.append(i2)\n",
    "print(list2)"
   ]
  },
  {
   "cell_type": "markdown",
   "id": "f22204c8-3ca9-4bc0-a51d-297d5b53344d",
   "metadata": {},
   "source": [
    "#### This code works fine, but its kind of verbose. It would be nice if we could just tell python \"Take that list, filter out every odd number and multiply each remaining element by 100\"\n",
    "with functional programming, we can!"
   ]
  },
  {
   "cell_type": "code",
   "execution_count": 14,
   "id": "4baf200c-9d32-4f3f-920a-da986bc987c0",
   "metadata": {},
   "outputs": [
    {
     "name": "stdout",
     "output_type": "stream",
     "text": [
      "[0, 1, 2, 3, 4, 5, 6, 7, 8, 9]\n",
      "[0, 200, 400, 600, 800]\n"
     ]
    }
   ],
   "source": [
    "list1 = [0, 1, 2, 3, 4, 5, 6, 7, 8, 9]\n",
    "print(list1)\n",
    "list2 = list(map(lambda n : n * 100, filter(lambda n : n%2 == 0, list1)))\n",
    "print(list2)"
   ]
  },
  {
   "cell_type": "markdown",
   "id": "7e51025c-892b-4aac-ac57-32a4efbc3475",
   "metadata": {},
   "source": [
    "`map` and `filter` take functions as their first parameter!\n",
    "- `map` takes each element and plugs it into the supplied function, keeping the result for each entry\n",
    "- `filter` takes each element, plugs it into the function and uses the result to decide wheather or not to keep or discard the result\n",
    "# This code is a lot nicer!\n",
    "but lets see how we can make it even better and also show some other examples."
   ]
  },
  {
   "cell_type": "code",
   "execution_count": 15,
   "id": "c1c8b1e2-b78b-4cbc-ae07-79d3f4121dd6",
   "metadata": {},
   "outputs": [
    {
     "name": "stdout",
     "output_type": "stream",
     "text": [
      "[0, 1, 2, 3, 4, 5, 6, 7, 8, 9]\n",
      "[0, 200, 400, 600, 800]\n"
     ]
    }
   ],
   "source": [
    "list1 = [0, 1, 2, 3, 4, 5, 6, 7, 8, 9]\n",
    "print(list1)\n",
    "\n",
    "# Extract lambda expressions out into their own functions in order to clean things up a bit\n",
    "def is_even(n):\n",
    "    return n%2 == 0\n",
    "\n",
    "def multiply_by_100(n):\n",
    "    return n * 100\n",
    "\n",
    "list2 = list(map(multiply_by_100, filter(is_even, list1)))\n",
    "print(list2)"
   ]
  },
  {
   "cell_type": "code",
   "execution_count": 19,
   "id": "040595d1-e842-43bc-836b-73cb64405041",
   "metadata": {},
   "outputs": [
    {
     "name": "stdout",
     "output_type": "stream",
     "text": [
      "[0, 1, 2, 3, 4, 5, 6, 7, 8, 9]\n",
      "[(0, 1), (1, 2), (2, 3), (3, 4), (4, 5), (5, 6), (6, 7), (7, 8), (8, 9), (9, 10)]\n"
     ]
    },
    {
     "ename": "TypeError",
     "evalue": "pow() missing required argument 'exp' (pos 2)",
     "output_type": "error",
     "traceback": [
      "\u001b[1;31m---------------------------------------------------------------------------\u001b[0m",
      "\u001b[1;31mTypeError\u001b[0m                                 Traceback (most recent call last)",
      "Cell \u001b[1;32mIn[19], line 8\u001b[0m\n\u001b[0;32m      5\u001b[0m list2 \u001b[38;5;241m=\u001b[39m \u001b[38;5;28mlist\u001b[39m(\u001b[38;5;28mmap\u001b[39m(\u001b[38;5;28;01mlambda\u001b[39;00m x : (x, x \u001b[38;5;241m+\u001b[39m \u001b[38;5;241m1\u001b[39m), list1))\n\u001b[0;32m      6\u001b[0m \u001b[38;5;28mprint\u001b[39m(list2)\n\u001b[1;32m----> 8\u001b[0m list3 \u001b[38;5;241m=\u001b[39m \u001b[38;5;28;43mlist\u001b[39;49m\u001b[43m(\u001b[49m\u001b[38;5;28;43mmap\u001b[39;49m\u001b[43m(\u001b[49m\u001b[38;5;28;43mpow\u001b[39;49m\u001b[43m,\u001b[49m\u001b[43m \u001b[49m\u001b[43mlist2\u001b[49m\u001b[43m)\u001b[49m\u001b[43m)\u001b[49m\n\u001b[0;32m      9\u001b[0m \u001b[38;5;28mprint\u001b[39m(list3)\n",
      "\u001b[1;31mTypeError\u001b[0m: pow() missing required argument 'exp' (pos 2)"
     ]
    }
   ],
   "source": [
    "# Powers of various functions\n",
    "list1 = [0, 1, 2, 3, 4, 5, 6, 7, 8, 9]\n",
    "print(list1)\n",
    "\n",
    "list2 = list(map(lambda x : (x, x + 1), list1))\n",
    "print(list2)\n",
    "\n",
    "list3 = list(map(pow, list2))\n",
    "print(list3)"
   ]
  },
  {
   "cell_type": "code",
   "execution_count": null,
   "id": "10b9cc03-b6bf-4fc1-8266-7249ac8d165b",
   "metadata": {},
   "outputs": [],
   "source": []
  }
 ],
 "metadata": {
  "kernelspec": {
   "display_name": "Python 3 (ipykernel)",
   "language": "python",
   "name": "python3"
  },
  "language_info": {
   "codemirror_mode": {
    "name": "ipython",
    "version": 3
   },
   "file_extension": ".py",
   "mimetype": "text/x-python",
   "name": "python",
   "nbconvert_exporter": "python",
   "pygments_lexer": "ipython3",
   "version": "3.11.4"
  }
 },
 "nbformat": 4,
 "nbformat_minor": 5
}
