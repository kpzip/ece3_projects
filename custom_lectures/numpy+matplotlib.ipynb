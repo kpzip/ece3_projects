{
 "cells": [
  {
   "cell_type": "markdown",
   "id": "1ac0c12c-8a12-4a53-9f37-b12057afa794",
   "metadata": {},
   "source": [
    "# NumPy!"
   ]
  },
  {
   "cell_type": "code",
   "execution_count": 42,
   "id": "f8ee99d4-6e76-45bb-8cdf-47f63ad32ac9",
   "metadata": {},
   "outputs": [],
   "source": [
    "import numpy as np\n",
    "\n",
    "# you can ignore this, it is just to make sure that resulting vectors & lists are printed with 2 decimal places\n",
    "np.set_printoptions(formatter={'float': lambda x: f\"{x:.2f}\"})"
   ]
  },
  {
   "cell_type": "markdown",
   "id": "ec2fa68d-8737-4500-9de2-9255283db725",
   "metadata": {},
   "source": [
    "## Overview\n",
    "\n",
    "NumPy allows us to do many useful operations with numbers in python (hence the name) beyond the `math` module including linear algebra, fourier transforms, and other useful scientific computing functions.\n",
    "\n",
    "## Installing\n",
    "\n",
    "NumPy is not a built in package to python. You can install it using the built in python package manager (pip) with the following command:\n",
    "```bash\n",
    "pip install numpy\n",
    "```\n",
    "if you already have numpy installed, you can make sure it is up to date with:\n",
    "```bash\n",
    "pip install --upgrade numpy\n",
    "```\n",
    "Once it is installed, you can import it using the statement shown here:"
   ]
  },
  {
   "cell_type": "code",
   "execution_count": 41,
   "id": "b04c1b3a-e114-440e-b898-af170b7b5cfd",
   "metadata": {},
   "outputs": [],
   "source": [
    "import numpy as np"
   ]
  },
  {
   "cell_type": "markdown",
   "id": "ee2677dd-b4d3-4ebf-9d20-414aed3bb55c",
   "metadata": {},
   "source": [
    "Note: the `as np` bit on the end is not required, but simply aliases the `numpy` module to `np` so that way we can just refer to it by the shorthand `np`\n",
    "\n",
    "## Basic Usage\n",
    "\n",
    "Lets use NumPy to solve the following system of linear equations:\n",
    "$$2x_{1}+1x_{2}=3$$\n",
    "$$1x_{1}+2x_{2}=5$$\n",
    "We can do this using NumPy's `linalg` submodule by representing this system as the following matrix equation:\n",
    "$$A\\vec{x}=\\vec{b}$$\n",
    "where:\n",
    "$$A=\\begin{bmatrix}\n",
    "2 & 1 \\\\\n",
    "1 & 2 \\\\\n",
    "\\end{bmatrix}$$\n",
    "$$\\vec{b}=\\begin{bmatrix}\n",
    "3 \\\\\n",
    "5 \\\\\n",
    "\\end{bmatrix}$$\n",
    "and\n",
    "$$\\vec{x}=\\begin{bmatrix}\n",
    "x_{1} \\\\\n",
    "x_{2} \\\\\n",
    "\\end{bmatrix}$$\n",
    "where we want to solve for the vector x."
   ]
  },
  {
   "cell_type": "code",
   "execution_count": 10,
   "id": "178b1568-a509-4657-a19f-ee6f9634e806",
   "metadata": {},
   "outputs": [
    {
     "name": "stdout",
     "output_type": "stream",
     "text": [
      "x = [0.33 2.33]\n",
      "x1 = 0.33\n",
      "x2 = 2.33\n",
      "Equation 1 holds.\n",
      "Equation 2 holds.\n"
     ]
    }
   ],
   "source": [
    "import numpy as np\n",
    "\n",
    "# define our variables\n",
    "# matricies are represented by `lists of lists`\n",
    "# matricies are entered in row-major order meaning that the inner arrays are the rows\n",
    "A = [[2, 1], [1, 2]]\n",
    "# vectors are just represented by a list\n",
    "b = [3, 5]\n",
    "\n",
    "# solve the equation\n",
    "# np.linalg.solve solves the matrix equation Ax = b for x given A and b\n",
    "x = np.linalg.solve(A, b)\n",
    "\n",
    "# print out the vector solution\n",
    "print(f\"x = {x}\")\n",
    "\n",
    "# extract x1 and x2\n",
    "for i in range(len(x)):\n",
    "    print(f\"x{i+1} = {x[i]:.2f}\")\n",
    "\n",
    "# check our solution\n",
    "for i in range(len(A)):\n",
    "    lhs = 0\n",
    "    for j in range(len(A[i])):\n",
    "        lhs += A[i][j] * x[j]\n",
    "    rhs = b[i]\n",
    "    # need to use np.isclose here because of floating point error\n",
    "    if np.isclose(lhs, rhs):\n",
    "        print(f\"Equation {i + 1} holds.\")\n",
    "    else:\n",
    "        print(f\"Equation {i + 1} does not hold.\")"
   ]
  },
  {
   "cell_type": "markdown",
   "id": "276d7ffa-b830-48d4-a374-f8aba34517a1",
   "metadata": {},
   "source": [
    "this is much more useful when solving more complex systems."
   ]
  },
  {
   "cell_type": "code",
   "execution_count": 11,
   "id": "b2b5d1fe-b0c6-4e6f-9c97-e8e8b2fc9512",
   "metadata": {},
   "outputs": [
    {
     "name": "stdout",
     "output_type": "stream",
     "text": [
      "A = \n",
      "[[ 1  9  6  1 10  7  8  9  6  8  0  1  8  0  3]\n",
      " [ 2 10 10  8 10  4 10  8  8  9  7  3  5  1  5]\n",
      " [ 1  4  0  9  9  6 10  3  0  7  9  7  2  7  0]\n",
      " [ 6  9  5  8  9 10  1  7  2  8  5  4  4  4  3]\n",
      " [ 7  5  4  0  5  3  6  5  5  0  9  9  4  8  5]\n",
      " [ 2  1  4  9  1  5  0  9  6  0  5  1  1  5  3]\n",
      " [ 2  3 10  9  4  7  0  8  3  7  6  6  1  9  8]\n",
      " [ 1  7  7  5  0  0  1  7  0  0  2  3  9  1  3]\n",
      " [ 1  8  8  5  9  5  6  1  4  3  4  2  8  0  4]\n",
      " [ 5  2  3  0  2  5  3  9  3  9  3  3  5  9  7]\n",
      " [ 4  2  9  5  7 10  2  8  5  9  3  3  5 10  7]\n",
      " [ 5  0  6  0  8  1  3  8  4  5  0  2  6  7  7]\n",
      " [ 8  6 10  0  0  5  9 10  2  9  8  6  3  1  8]\n",
      " [ 9  3  9  0  1  5  1  0  7  3  1  9  5  7  1]\n",
      " [ 3  9 10  8  0  5  8  6  0  0  2  3  4  0  1]]\n",
      "b = [1, 1, 10, 1, 2, 4, 3, 0, 9, 4, 9, 7, 3, 6, 1]\n",
      "x = [0.46 -1.83 -0.46 0.98 -0.02 0.81 0.74 -0.70 0.09 -0.06 -0.24 0.48 1.31\n",
      " -0.75 0.95]\n",
      "x1 = 0.46\n",
      "x2 = -1.83\n",
      "x3 = -0.46\n",
      "x4 = 0.98\n",
      "x5 = -0.02\n",
      "x6 = 0.81\n",
      "x7 = 0.74\n",
      "x8 = -0.70\n",
      "x9 = 0.09\n",
      "x10 = -0.06\n",
      "x11 = -0.24\n",
      "x12 = 0.48\n",
      "x13 = 1.31\n",
      "x14 = -0.75\n",
      "x15 = 0.95\n",
      "Equation 1 holds.\n",
      "Equation 2 holds.\n",
      "Equation 3 holds.\n",
      "Equation 4 holds.\n",
      "Equation 5 holds.\n",
      "Equation 6 holds.\n",
      "Equation 7 holds.\n",
      "Equation 8 holds.\n",
      "Equation 9 holds.\n",
      "Equation 10 holds.\n",
      "Equation 11 holds.\n",
      "Equation 12 holds.\n",
      "Equation 13 holds.\n",
      "Equation 14 holds.\n",
      "Equation 15 holds.\n"
     ]
    }
   ],
   "source": [
    "import numpy as np\n",
    "import random as rand\n",
    "\n",
    "# Same Example as above, but solving a randomly generated system with n equations and n unknowns (nxn matrix)\n",
    "\n",
    "# size of our matrix\n",
    "n = 15\n",
    "\n",
    "# define our variables\n",
    "# matricies are represented by `lists of lists`\n",
    "# matricies are entered in row-major order meaning that the inner arrays are the rows\n",
    "A = np.array([[rand.randint(0, 10) for _ in range(n)] for _ in range(n)])\n",
    "# vectors are just represented by a list\n",
    "b = [rand.randint(0, 10) for _ in range(n)]\n",
    "\n",
    "# show A and b\n",
    "print(f\"A = \\n{A}\")\n",
    "print(f\"b = {b}\")\n",
    "\n",
    "# solve the equation\n",
    "# np.linalg.solve solves the matrix equation Ax = b for x given A and b\n",
    "x = np.linalg.solve(A, b)\n",
    "\n",
    "# print out the vector solution\n",
    "print(f\"x = {x}\")\n",
    "\n",
    "# extract x1 and x2\n",
    "for i in range(len(x)):\n",
    "    print(f\"x{i+1} = {x[i]:.2f}\")\n",
    "\n",
    "# check our solution\n",
    "for i in range(len(A)):\n",
    "    lhs = 0\n",
    "    for j in range(len(A[i])):\n",
    "        lhs += A[i][j] * x[j]\n",
    "    rhs = b[i]\n",
    "    # need to use np.isclose here because of floating point error\n",
    "    if np.isclose(lhs, rhs):\n",
    "        print(f\"Equation {i + 1} holds.\")\n",
    "    else:\n",
    "        print(f\"Equation {i + 1} does not hold.\")"
   ]
  },
  {
   "cell_type": "markdown",
   "id": "696d8dbd-5bf8-4419-80ef-16e34fe558a5",
   "metadata": {},
   "source": [
    "## Other useful linear algebra related NumPy functions\n",
    "\n",
    "`transpose` - Transposes a matrix or vector, flipping it about its diagonal. e.g.\n",
    "$$\\begin{bmatrix}\n",
    "1 & 2 & 3 \\\\\n",
    "4 & 5 & 6 \\\\\n",
    "7 & 8 & 9\n",
    "\\end{bmatrix}^{T}=\n",
    "\\begin{bmatrix}\n",
    "1 & 4 & 7 \\\\\n",
    "2 & 5 & 8 \\\\\n",
    "3 & 6 & 9\n",
    "\\end{bmatrix}$$\n",
    "`linalg.eig` and `linalg.eigenvalues` - Calculates the eigenvectors and eigenvalues of a given matrix.\n",
    "\n",
    "`linalg.det` - Calculates the determinant (area scale factor) of a given matrix. e.g. for a 2x2 matrix\n",
    "$$\\det(\\begin{bmatrix}\n",
    "a & b \\\\\n",
    "c & d \\\\\n",
    "\\end{bmatrix})=ad-bc$$\n",
    "`lianlg.inv` - Computes the inverse of the supplied matrix. e.g. computes A^-1 from A such that:\n",
    "$$A^{-1}A=I$$\n",
    "\n",
    "`matmul` - Multiplies two matricies (or a matrix and a vector) returning the product\n",
    "\n",
    "Examples:"
   ]
  },
  {
   "cell_type": "code",
   "execution_count": 3,
   "id": "0dd05524-b7e7-45c9-b773-30a96f2ecaf0",
   "metadata": {},
   "outputs": [
    {
     "name": "stdout",
     "output_type": "stream",
     "text": [
      "A^T = \n",
      "[[1 4 7]\n",
      " [2 5 8]\n",
      " [3 6 9]]\n",
      "eigenvalues: [5.00 2.00]\n",
      "eigenvalue-eigenvector pairs: EigResult(eigenvalues=array([5.00, 2.00]), eigenvectors=array([[1.00, 0.00],\n",
      "       [0.00, 1.00]]))\n",
      "det(A) = 0.0\n",
      "inverse of A: \n",
      "[[-2.00 0.50]\n",
      " [1.50 -0.25]]\n",
      "AB = \n",
      "[[ 0 -2]\n",
      " [ 2  0]]\n"
     ]
    }
   ],
   "source": [
    "import numpy as np\n",
    "\n",
    "# Transpose\n",
    "A = [[1,2,3],[4,5,6],[7,8,9]]\n",
    "At = np.transpose(A)\n",
    "print(f\"A^T = \\n{At}\")\n",
    "\n",
    "# Eigenvalues\n",
    "A = [[5,0],[0,2]]\n",
    "eigenvalues = np.linalg.eigvals(A)\n",
    "values_and_vectors = np.linalg.eig(A)\n",
    "print(f\"eigenvalues: {eigenvalues}\")\n",
    "print(f\"eigenvalue-eigenvector pairs: {values_and_vectors}\")\n",
    "\n",
    "# Determinant\n",
    "A = [[1, 2], [2, 4]]\n",
    "det = np.linalg.det(A)\n",
    "print(f\"det(A) = {det}\")\n",
    "\n",
    "# Inverse\n",
    "A = [[1, 2], [6, 8]]\n",
    "Ainv = np.linalg.inv(A)\n",
    "print(f\"inverse of A: \\n{Ainv}\")\n",
    "\n",
    "# Matrix Multiplication\n",
    "A = [[2, 0], [0, 2]]\n",
    "B = [[0, -1], [1, 0]]\n",
    "C = np.matmul(A, B)\n",
    "print(F\"AB = \\n{C}\")"
   ]
  },
  {
   "cell_type": "markdown",
   "id": "584ffd56-8a3b-40aa-8565-98e214d9aebb",
   "metadata": {},
   "source": [
    "## np.array\n",
    "\n",
    "NumPy has its own array type, which is conceptually very similar to the builtin python `list` type, but is built specifically for use with NumPy.\n",
    "\n",
    "NumPy `ndarray` (Short for n-dimensional array) objects are similar to python `list` objects, but with a few key differences:\n",
    "\n",
    "1. `ndarray` objects are guaranteed to be homogenous, as opposed to python's `list` which can be heterogeneous or homogenous.\n",
    "2. `ndarray`s can be inherently multidimensional, whereas to achieve multidimensional `list`s, you have to nest them.\n",
    "3. `ndarray` is usually faster and more memory efficient than `list`, especially when used in numerical contexts.\n",
    "4. multidimensional `ndarray` objects have prettier printing than nested `list`s do. (useful for printing matricies)\n",
    "5. `ndarray` has multiple methods defined for various numerical operations, allowing you to adopt a more object-oriented programming style.\n",
    "\n",
    "You can make `ndarray` objects by calling the `array` function and passing in a python `list`, by calling `zeros` to get an array of all zeros, or by calling `empty` to get an empty `ndarray`.\n",
    "You can use `ndarray` objects in mostly the same way you use lists. You can iterate over them, you can index them, and you can slice them.\n",
    "Most NumPy functions will work if supplied with either a python `list` or a NumPy `ndarray` object."
   ]
  },
  {
   "cell_type": "code",
   "execution_count": 4,
   "id": "06e3ad34-76cf-4e15-8143-ee43b75730bd",
   "metadata": {},
   "outputs": [
    {
     "name": "stdout",
     "output_type": "stream",
     "text": [
      "python list: \n",
      "[[1, 2], [3, 4]]\n",
      "numpy array: \n",
      "[[1 2]\n",
      " [3 4]]\n"
     ]
    }
   ],
   "source": [
    "import numpy as np\n",
    "\n",
    "# Regular python list\n",
    "boring_list = [[1, 2], [3, 4]]\n",
    "\n",
    "# We can make a numpy array using the np.array function\n",
    "numpy_array = np.array([[1, 2], [3, 4]])\n",
    "\n",
    "print(f\"python list: \\n{boring_list}\")\n",
    "print(f\"numpy array: \\n{numpy_array}\")"
   ]
  },
  {
   "cell_type": "markdown",
   "id": "ef4358ed-18b8-43de-bceb-bd911ba3eedd",
   "metadata": {},
   "source": [
    "## Other useful NumPy functions\n",
    "\n",
    "`linspace` - Generates a sequence with a fixed number of evenly spaced samples along a certain interval\n",
    "\n",
    "`arange` - Generates a range given the interval and (optional) step value (similar to the builtin range() function, but outputs a `ndarray` instead of a `range` object, and allows for decimal values)\n",
    "\n",
    "`random.uniform` - Generates a random float over the specified interval with a uniform distribution\n",
    "\n",
    "`logspace` - Generates a sequence with evenly spaced numbers on a logarithmic scale\n",
    "\n",
    "`zeros` - Generates a sequence of zeros"
   ]
  },
  {
   "cell_type": "code",
   "execution_count": 39,
   "id": "0579741a-1303-4239-b463-d15ab4cfa8da",
   "metadata": {},
   "outputs": [
    {
     "name": "stdout",
     "output_type": "stream",
     "text": [
      "Linspace: [10.00 20.00 30.00 40.00 50.00 60.00 70.00 80.00 90.00 100.00]\n",
      "arange: [0.00 0.50 1.00 1.50 2.00 2.50 3.00 3.50 4.00 4.50 5.00 5.50 6.00 6.50\n",
      " 7.00 7.50 8.00 8.50 9.00 9.50]\n",
      "random float between 0 and 10 (inclusive of 0, but exclusive of 10): 2.93\n",
      "logspace: [10.00 100.00 1000.00 10000.00 100000.00 1000000.00 10000000.00\n",
      " 100000000.00 1000000000.00 10000000000.00]\n",
      "zeroes: [0.00 0.00 0.00 0.00 0.00]\n"
     ]
    }
   ],
   "source": [
    "import numpy as np\n",
    "\n",
    "# linspace\n",
    "print(f\"Linspace: {np.linspace(10, 100, 10)}\")\n",
    "\n",
    "# arange\n",
    "print(f\"arange: {np.arange(0, 10, 0.5)}\")\n",
    "\n",
    "# uniform\n",
    "print(f\"random float between 0 and 10 (inclusive of 0, but exclusive of 10): {np.random.uniform(0, 10):.2f}\")\n",
    "\n",
    "# logspace\n",
    "print(f\"logspace: {np.logspace(1, 10, 10)}\")\n",
    "\n",
    "# zeros\n",
    "print(f\"zeroes: {np.zeros(5)}\")"
   ]
  },
  {
   "cell_type": "markdown",
   "id": "c96cff7f-93be-4c4f-afaf-f7e93234dc1c",
   "metadata": {},
   "source": [
    "## Activity\n",
    "\n",
    "Generate a list of 10 evenly spaced numbers between 10 and 100 with a random error of +/-5 (inclusive of -5, exclusive of +5) using `linspace` and `random.uniform`"
   ]
  },
  {
   "cell_type": "code",
   "execution_count": 40,
   "id": "1f060479-493d-41d4-809b-efc143668917",
   "metadata": {
    "jupyter": {
     "source_hidden": true
    }
   },
   "outputs": [
    {
     "name": "stdout",
     "output_type": "stream",
     "text": [
      "[8.61123519812065, 18.17437022671429, 26.68592679358503, 43.68328458880417, 53.85759026597381, 57.44350848669119, 68.98739907161143, 83.15831618314843, 87.42316534416467, 99.91159773494519]\n"
     ]
    }
   ],
   "source": [
    "import numpy as np\n",
    "\n",
    "linspace = np.linspace(10, 100, 10)\n",
    "random_variation = [x + np.random.uniform(-5, 5) for x in linspace]\n",
    "print(random_variation)"
   ]
  },
  {
   "cell_type": "markdown",
   "id": "d2c0a70f-6334-4448-9949-cf3212c5e89e",
   "metadata": {},
   "source": [
    "## Use Case: Using numpy to calculate a least-squares best fit curve & plotting with matplotlib\n",
    "\n",
    "here we will find the lest-squares best fit parabola for some given data using numpy, and then plot the result with matplotlib.\n",
    "This is easy to do using the `linalg.lstsq` function from NumPy. All we have to do is put our data in the right form:\n",
    "$$(x_{1},y_{1}),(x_{2},y_{2}),\\dots(x_{n},y_{n})$$\n",
    "$$\\Downarrow$$\n",
    "$$\\begin{bmatrix}\n",
    "x_{1}^{2} & x_{1} & 1 \\\\\n",
    "x_{2}^{2} & x_{2} & 1 \\\\\n",
    "\\vdots & \\vdots & \\vdots \\\\\n",
    "x_{n}^{2} & x_{n} & 1 \n",
    "\\end{bmatrix}\\times\n",
    "\\begin{bmatrix}\n",
    "a \\\\\n",
    "b \\\\\n",
    "c\n",
    "\\end{bmatrix}\\approx\n",
    "\\begin{bmatrix}\n",
    "y_{1} \\\\\n",
    "y_{2} \\\\\n",
    "\\vdots \\\\\n",
    "y_{n}\n",
    "\\end{bmatrix}\n",
    "$$\n",
    "`linalg.lstsq` will do the hart part for us and find the values for a, b, and c that make this matrix equation have the least amount of squared error"
   ]
  },
  {
   "cell_type": "code",
   "execution_count": 25,
   "id": "ae6b4653-aa71-4686-9258-8536ff01a604",
   "metadata": {},
   "outputs": [
    {
     "name": "stdout",
     "output_type": "stream",
     "text": [
      "a = 2.27, b = 1.75, c = 0.75\n"
     ]
    },
    {
     "data": {
      "image/png": "[encoded data removed]",
      "text/plain": [
       "<Figure size 640x480 with 1 Axes>"
      ]
     },
     "metadata": {},
     "output_type": "display_data"
    }
   ],
   "source": [
    "import numpy as np\n",
    "from matplotlib import pyplot as plt\n",
    "\n",
    "# datapoints that we want to find curve fit for\n",
    "# generated using a = 2.5, b = -1, c = 5 with a deviation of 20\n",
    "datapoints = [(0.37285048835118184, 20.020713365646913), (0.9750516986928359, 5.124244348851617), (1.2286554978647757, -12.023729187490256), (1.3476725644417153, -6.769378199609779), (1.426372994245081, 6.897536946262601), (1.6993601044668438, 17.394455601459633), (2.252373743397852, 32.801650044516), (2.6203509979154074, 15.43091022704016), (3.2456822601829005, 25.329580001156867), (4.083713223243053, 23.512968623100022), (4.118773424605363, 47.03998606703252), (4.188372666114216, 51.45892541025762), (5.114408396505298, 78.63726763624796), (5.4561323162704, 80.23263117344098), (5.7872988110980375, 93.11608414080037), (5.8449699459033875, 100.10480060869438), (6.091427949210935, 83.20896718360089), (6.240842895719087, 108.6470517444134), (6.785732995544618, 118.30506823762337), (6.939612220398819, 113.46853971287123), (8.264707637906927, 180.99630810562445), (8.499956334120448, 189.83534098985604), (8.585874637948946, 166.94252021685548), (9.437421470660182, 222.46604463051713), (9.843065010013003, 231.46923223333079)]\n",
    "\n",
    "# Extract x and y values into separate lists\n",
    "x_values = [x for (x, y) in datapoints]\n",
    "y_values = [y for (x, y) in datapoints]\n",
    "\n",
    "# Fill in matrix values from the data\n",
    "matrix = [[x ** 2, x, 1] for x in x_values]\n",
    "\n",
    "# Fill in vector values from the data\n",
    "vector = [y for y in y_values]\n",
    "\n",
    "# Get least squares solution. [0] at the end since we only want the solution and not the other data that this function returns\n",
    "least_squares_solution = np.linalg.lstsq(matrix, vector, rcond=-1)[0]\n",
    "\n",
    "# extract a b and c using list decomp to reconstruct the quadratic\n",
    "a, b, c = least_squares_solution\n",
    "\n",
    "# see how close we were to the actual numbers\n",
    "print(f\"a = {a:.2f}, b = {b:.2f}, c = {c:.2f}\")\n",
    "\n",
    "# define our quadratic function\n",
    "def quadratic(x):\n",
    "    return a * (x ** 2) + b * x + c\n",
    "\n",
    "# Plotting\n",
    "# Define graph bounds\n",
    "x_min = 0\n",
    "x_max = 10\n",
    "y_min = 0\n",
    "y_max = 250\n",
    "\n",
    "# Range for plotting the quadratic\n",
    "curve_fit_range = np.arange(x_min, x_max, 0.02)\n",
    "\n",
    "# Set Axes & Lables\n",
    "plt.axis((x_min, x_max, y_min, y_max))\n",
    "plt.xlabel(\"x Values\")\n",
    "plt.ylabel(\"y Values\")\n",
    "# Draw Scattered data points\n",
    "plt.scatter(x_values, y_values, marker='^')\n",
    "# Draw Curve Fit\n",
    "plt.plot(curve_fit_range, quadratic(curve_fit_range))\n",
    "\n",
    "plt.show()\n"
   ]
  },
  {
   "cell_type": "markdown",
   "id": "0ec8d96e-7222-4db0-9102-e9da2d7a108d",
   "metadata": {},
   "source": [
    "## Final Problem\n",
    "\n",
    "Re-create the script I made to gather the data for the previous example using numpy. (Parabola is 2.5x^2 - x + 5, x-values range between 0 and 10, y values are within 20 units of the parabola)"
   ]
  }
 ],
 "metadata": {
  "kernelspec": {
   "display_name": "Python 3 (ipykernel)",
   "language": "python",
   "name": "python3"
  },
  "language_info": {
   "codemirror_mode": {
    "name": "ipython",
    "version": 3
   },
   "file_extension": ".py",
   "mimetype": "text/x-python",
   "name": "python",
   "nbconvert_exporter": "python",
   "pygments_lexer": "ipython3",
   "version": "3.11.4"
  }
 },
 "nbformat": 4,
 "nbformat_minor": 5
}
