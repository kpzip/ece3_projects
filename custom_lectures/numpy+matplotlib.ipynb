{
 "cells": [
  {
   "cell_type": "markdown",
   "id": "1ac0c12c-8a12-4a53-9f37-b12057afa794",
   "metadata": {},
   "source": [
    "# Numpy!"
   ]
  },
  {
   "cell_type": "code",
   "execution_count": 1,
   "id": "f8ee99d4-6e76-45bb-8cdf-47f63ad32ac9",
   "metadata": {},
   "outputs": [],
   "source": [
    "import numpy as np"
   ]
  },
  {
   "cell_type": "markdown",
   "id": "ec2fa68d-8737-4500-9de2-9255283db725",
   "metadata": {},
   "source": [
    "## Overview\n",
    "\n",
    "Numpy allows us to do many useful operations with numbers in python (hence the name) including linear algebra, fourier transforms, and other useful scientific computing functions.\n",
    "\n",
    "## Installing\n",
    "\n",
    "Numpy is not a built in package to python. You can install it using the built in python package manager (pip) with the following command:\n",
    "```bash\n",
    "pip install numpy\n",
    "```\n",
    "Once it is installed, you can import it using the statement shown here:"
   ]
  },
  {
   "cell_type": "code",
   "execution_count": null,
   "id": "b04c1b3a-e114-440e-b898-af170b7b5cfd",
   "metadata": {},
   "outputs": [],
   "source": [
    "import numpy as np"
   ]
  },
  {
   "cell_type": "markdown",
   "id": "ee2677dd-b4d3-4ebf-9d20-414aed3bb55c",
   "metadata": {},
   "source": [
    "Note: the `as np` bit on the end is not required, but simply aliases the numpy module as `np` so that way we can just refer to it by the shorthand `np`\n",
    "\n",
    "## Basic Usage\n",
    "\n",
    "Lets use numpy to solve the following system of linear equations:\n",
    "$$2x_{1}+1x_{2}=3$$\n",
    "$$1x_{1}+2x_{2}=5$$\n",
    "We can do this using numpy's `linalg` submodule by representing this system as the following matrix equation:\n",
    "$$A\\vec{x}=\\vec{b}$$\n",
    "where:\n",
    "$$A=\\begin{bmatrix}\n",
    "2 & 1 \\\\\n",
    "1 & 2 \\\\\n",
    "\\end{bmatrix}$$\n",
    "$$\\vec{b}=\\begin{bmatrix}\n",
    "3 \\\\\n",
    "5 \\\\\n",
    "\\end{bmatrix}$$\n",
    "and\n",
    "$$\\vec{x}=\\begin{bmatrix}\n",
    "x_{1} \\\\\n",
    "x_{2} \\\\\n",
    "\\end{bmatrix}$$\n",
    "where we want to solve for the vector x."
   ]
  },
  {
   "cell_type": "code",
   "execution_count": 19,
   "id": "178b1568-a509-4657-a19f-ee6f9634e806",
   "metadata": {},
   "outputs": [
    {
     "name": "stdout",
     "output_type": "stream",
     "text": [
      "x = [0.33 2.33]\n",
      "x1 = 0.33\n",
      "x2 = 2.33\n",
      "Equation 1 holds.\n",
      "Equation 2 holds.\n"
     ]
    }
   ],
   "source": [
    "import numpy as np\n",
    "\n",
    "# you can ignore this, it is just to make sure that resulting vectors & lists are printed with 2 decimal places\n",
    "np.set_printoptions(formatter={'float': lambda x: f\"{x:.2f}\"})\n",
    "\n",
    "# define our variables\n",
    "# matricies are represented by `lists of lists`\n",
    "# matricies are entered in row-major order meaning that the inner arrays are the rows\n",
    "A = [[2, 1], [1, 2]]\n",
    "# vectors are just represented by a list\n",
    "b = [3, 5]\n",
    "\n",
    "# solve the equation\n",
    "# np.linalg.solve solves the matrix equation Ax = b for x given A and b\n",
    "x = np.linalg.solve(A, b)\n",
    "\n",
    "# print out the vector solution\n",
    "print(f\"x = {x}\")\n",
    "\n",
    "# extract x1 and x2\n",
    "for i in range(len(x)):\n",
    "    print(f\"x{i+1} = {x[i]:.2f}\")\n",
    "\n",
    "# check our solution\n",
    "for i in range(len(A)):\n",
    "    lhs = 0\n",
    "    for j in range(len(A[i])):\n",
    "        lhs += A[i][j] * x[j]\n",
    "    rhs = b[i]\n",
    "    # need to use np.isclose here because of floating point error\n",
    "    if np.isclose(lhs, rhs):\n",
    "        print(f\"Equation {i + 1} holds.\")\n",
    "    else:\n",
    "        print(f\"Equation {i + 1} does not hold.\")"
   ]
  },
  {
   "cell_type": "markdown",
   "id": "276d7ffa-b830-48d4-a374-f8aba34517a1",
   "metadata": {},
   "source": [
    "this is much more useful when solving more complex systems."
   ]
  },
  {
   "cell_type": "code",
   "execution_count": 29,
   "id": "b2b5d1fe-b0c6-4e6f-9c97-e8e8b2fc9512",
   "metadata": {},
   "outputs": [
    {
     "name": "stdout",
     "output_type": "stream",
     "text": [
      "A = \n",
      "[[ 8  5  5  4  3  6  8  1  2  6  9  3  9 10  6]\n",
      " [ 8 10  9  8 10  2  5  8 10  4  7  5  5  8  1]\n",
      " [ 0  9  4  3  3  1  9  7  2  8  9  7  4  8  7]\n",
      " [ 6  0  5  0  6 10  1  3  7  1 10  5  8  3  0]\n",
      " [ 9  0  6 10  3  4  4  0  0 10  2  6  2  4  3]\n",
      " [ 5  1  8  1  7 10  2  4  5  8  1  4  4  3 10]\n",
      " [ 5  5  6  6  7  8  2  3  6  3  2  9  2  1  3]\n",
      " [ 1  7  4  0 10  7  5  7  7  3  2  1  1  7  8]\n",
      " [ 9  9  8 10  6  4  5 10  5  9  5  4  1  4  2]\n",
      " [ 2  6  6 10  9  1 10 10  3  0  5  6  4  7 10]\n",
      " [ 1  2  5  6  9  8  8  8  9  7  7  0  5  2  8]\n",
      " [ 2  4  3  6  5  4  7  9 10  1  6  7  3  9  2]\n",
      " [ 8  7  4  8 10  7  4 10  1  0  5 10  3  4  6]\n",
      " [ 6  8  1  9  5  7  4  5  4  3  3  2  7  1 10]\n",
      " [ 7 10  2  8  2  4 10 10  7  3  1  2  0  4  4]]\n",
      "b = [8, 6, 2, 4, 9, 10, 9, 2, 5, 0, 8, 5, 2, 7, 1]\n",
      "x = [-3.88 0.71 0.23 0.40 1.56 2.62 1.98 2.45 -3.05 2.54 -7.08 0.34 8.33 0.84\n",
      " -5.97]\n",
      "x1 = -3.88\n",
      "x2 = 0.71\n",
      "x3 = 0.23\n",
      "x4 = 0.40\n",
      "x5 = 1.56\n",
      "x6 = 2.62\n",
      "x7 = 1.98\n",
      "x8 = 2.45\n",
      "x9 = -3.05\n",
      "x10 = 2.54\n",
      "x11 = -7.08\n",
      "x12 = 0.34\n",
      "x13 = 8.33\n",
      "x14 = 0.84\n",
      "x15 = -5.97\n",
      "Equation 1 holds.\n",
      "Equation 2 holds.\n",
      "Equation 3 holds.\n",
      "Equation 4 holds.\n",
      "Equation 5 holds.\n",
      "Equation 6 holds.\n",
      "Equation 7 holds.\n",
      "Equation 8 holds.\n",
      "Equation 9 holds.\n",
      "Equation 10 holds.\n",
      "Equation 11 holds.\n",
      "Equation 12 holds.\n",
      "Equation 13 holds.\n",
      "Equation 14 holds.\n",
      "Equation 15 holds.\n"
     ]
    }
   ],
   "source": [
    "import numpy as np\n",
    "import random as rand\n",
    "\n",
    "# you can ignore this, it is just to make sure that resulting vectors & lists are printed with 2 decimal places\n",
    "np.set_printoptions(formatter={'float': lambda x: f\"{x:.2f}\"})\n",
    "\n",
    "# Same Example as above, but solving a randomly generated system with n equations and n unknowns (nxn matrix)\n",
    "\n",
    "# size of our matrix\n",
    "n = 15\n",
    "\n",
    "# define our variables\n",
    "# matricies are represented by `lists of lists`\n",
    "# matricies are entered in row-major order meaning that the inner arrays are the rows\n",
    "A = np.array([[rand.randint(0, 10) for _ in range(n)] for _ in range(n)])\n",
    "# vectors are just represented by a list\n",
    "b = [rand.randint(0, 10) for _ in range(n)]\n",
    "\n",
    "# show A and b\n",
    "print(f\"A = \\n{A}\")\n",
    "print(f\"b = {b}\")\n",
    "\n",
    "# solve the equation\n",
    "# np.linalg.solve solves the matrix equation Ax = b for x given A and b\n",
    "x = np.linalg.solve(A, b)\n",
    "\n",
    "# print out the vector solution\n",
    "print(f\"x = {x}\")\n",
    "\n",
    "# extract x1 and x2\n",
    "for i in range(len(x)):\n",
    "    print(f\"x{i+1} = {x[i]:.2f}\")\n",
    "\n",
    "# check our solution\n",
    "for i in range(len(A)):\n",
    "    lhs = 0\n",
    "    for j in range(len(A[i])):\n",
    "        lhs += A[i][j] * x[j]\n",
    "    rhs = b[i]\n",
    "    # need to use np.isclose here because of floating point error\n",
    "    if np.isclose(lhs, rhs):\n",
    "        print(f\"Equation {i + 1} holds.\")\n",
    "    else:\n",
    "        print(f\"Equation {i + 1} does not hold.\")"
   ]
  },
  {
   "cell_type": "markdown",
   "id": "696d8dbd-5bf8-4419-80ef-16e34fe558a5",
   "metadata": {},
   "source": [
    "## Other useful numpy functions\n",
    "\n",
    "`transpose` - Transposes a matrix or vector, flipping it about its diagonal. e.g.\n",
    "$$\\begin{bmatrix}\n",
    "1 & 2 & 3 \\\\\n",
    "4 & 5 & 6 \\\\\n",
    "7 & 8 & 9\n",
    "\\end{bmatrix}^{T}=\n",
    "\\begin{bmatrix}\n",
    "1 & 4 & 7 \\\\\n",
    "2 & 5 & 8 \\\\\n",
    "3 & 6 & 9\n",
    "\\end{bmatrix}$$\n",
    "`linalg.eig` and `linalg.eigenvalues` - Calculates the eigenvectors and eigenvalues of a given matrix.\n",
    "\n",
    "`linalg.det` - Calculates the determinant (area scale factor) of a given matrix. e.g. for a 2x2 matrix\n",
    "$$\\det(\\begin{bmatrix}\n",
    "a & b \\\\\n",
    "c & d \\\\\n",
    "\\end{bmatrix})=ad-bc$$\n",
    "`lianlg.inv` - Computes the inverse of the supplied matrix. e.g. computes A^-1 from A such that:\n",
    "$$A^{-1}A=I$$\n",
    "\n",
    "Examples:"
   ]
  },
  {
   "cell_type": "code",
   "execution_count": 27,
   "id": "0dd05524-b7e7-45c9-b773-30a96f2ecaf0",
   "metadata": {},
   "outputs": [
    {
     "name": "stdout",
     "output_type": "stream",
     "text": [
      "A^T = \n",
      "[[1 4 7]\n",
      " [2 5 8]\n",
      " [3 6 9]]\n",
      "eigenvalues: [5.00 2.00]\n",
      "eigenvalue-eigenvector pairs: (array([5.00, 2.00]), array([[1.00, 0.00],\n",
      "       [0.00, 1.00]]))\n",
      "det(A) = 0.0\n",
      "inverse of A: \n",
      "[[-2.00 0.50]\n",
      " [1.50 -0.25]]\n"
     ]
    }
   ],
   "source": [
    "import numpy as np\n",
    "\n",
    "# you can ignore this, it is just to make sure that resulting vectors & lists are printed with 2 decimal places\n",
    "np.set_printoptions(formatter={'float': lambda x: f\"{x:.2f}\"})\n",
    "\n",
    "# Transpose\n",
    "A = [[1,2,3],[4,5,6],[7,8,9]]\n",
    "At = np.transpose(A)\n",
    "print(f\"A^T = \\n{At}\")\n",
    "\n",
    "# Eigenvalues\n",
    "A = [[5,0],[0,2]]\n",
    "eigenvalues = np.linalg.eigvals(A)\n",
    "values_and_vectors = np.linalg.eig(A)\n",
    "print(f\"eigenvalues: {eigenvalues}\")\n",
    "print(f\"eigenvalue-eigenvector pairs: {values_and_vectors}\")\n",
    "\n",
    "# Determinant\n",
    "A = [[1, 2], [2, 4]]\n",
    "det = np.linalg.det(A)\n",
    "print(f\"det(A) = {det}\")\n",
    "\n",
    "# Inverse\n",
    "A = [[1, 2], [6, 8]]\n",
    "Ainv = np.linalg.inv(A)\n",
    "print(f\"inverse of A: \\n{Ainv}\")"
   ]
  },
  {
   "cell_type": "markdown",
   "id": "584ffd56-8a3b-40aa-8565-98e214d9aebb",
   "metadata": {},
   "source": [
    "## np.array\n",
    "\n",
    "Numpy has its own array type, which is very similar to the builtin python list type, however it allows matricies and vectors to be handled in an object oriented style as opposed to a functional style. Most Numpy functions will work if supplied with either a python list or a numpy array object."
   ]
  },
  {
   "cell_type": "code",
   "execution_count": 31,
   "id": "06e3ad34-76cf-4e15-8143-ee43b75730bd",
   "metadata": {},
   "outputs": [
    {
     "name": "stdout",
     "output_type": "stream",
     "text": [
      "python list: [[1, 2], [3, 4]]\n",
      "numpy array: \n",
      "[[1 2]\n",
      " [3 4]]\n"
     ]
    }
   ],
   "source": [
    "import numpy as np\n",
    "\n",
    "# Regular python list\n",
    "boring_list = [[1, 2], [3, 4]]\n",
    "\n",
    "# We can make a numpy array using the np.array function\n",
    "numpy_array = np.array([[1, 2], [3, 4]])\n",
    "\n",
    "print(f\"python list: {boring_list}\")\n",
    "print(f\"numpy array: \\n{numpy_array}\")"
   ]
  },
  {
   "cell_type": "markdown",
   "id": "d2c0a70f-6334-4448-9949-cf3212c5e89e",
   "metadata": {},
   "source": [
    "## Use Case: Using numpy to calculate a least-squares best fit curve & plotting with matplotlib\n",
    "\n",
    "here we will find the lest-squares best fit parabola for some given data using numpy, and then plot the result with matplotlib."
   ]
  },
  {
   "cell_type": "code",
   "execution_count": null,
   "id": "ae6b4653-aa71-4686-9258-8536ff01a604",
   "metadata": {},
   "outputs": [],
   "source": [
    "import numpy as np\n",
    "import matplotlib.pyplot as plt"
   ]
  }
 ],
 "metadata": {
  "kernelspec": {
   "display_name": "Python 3 (ipykernel)",
   "language": "python",
   "name": "python3"
  },
  "language_info": {
   "codemirror_mode": {
    "name": "ipython",
    "version": 3
   },
   "file_extension": ".py",
   "mimetype": "text/x-python",
   "name": "python",
   "nbconvert_exporter": "python",
   "pygments_lexer": "ipython3",
   "version": "3.10.11"
  }
 },
 "nbformat": 4,
 "nbformat_minor": 5
}
