{
 "cells": [
  {
   "cell_type": "markdown",
   "id": "1ac0c12c-8a12-4a53-9f37-b12057afa794",
   "metadata": {},
   "source": [
    "# Numpy!"
   ]
  },
  {
   "cell_type": "code",
   "execution_count": 1,
   "id": "f8ee99d4-6e76-45bb-8cdf-47f63ad32ac9",
   "metadata": {},
   "outputs": [],
   "source": [
    "import numpy as np"
   ]
  },
  {
   "cell_type": "markdown",
   "id": "ec2fa68d-8737-4500-9de2-9255283db725",
   "metadata": {},
   "source": [
    "## Overview\n",
    "\n",
    "Numpy allows us to do many useful operations with numbers in python (hence the name) including linear algebra, fourier transforms, and other useful scientific computing functions.\n",
    "\n",
    "## Installing\n",
    "\n",
    "Numpy is not a built in package to python. You can install it using the built in python package manager (pip) with the following command:\n",
    "```bash\n",
    "pip install numpy\n",
    "```\n",
    "Once it is installed, you can import it using the statement shown here:"
   ]
  },
  {
   "cell_type": "code",
   "execution_count": null,
   "id": "b04c1b3a-e114-440e-b898-af170b7b5cfd",
   "metadata": {},
   "outputs": [],
   "source": [
    "import numpy as np"
   ]
  },
  {
   "cell_type": "markdown",
   "id": "ee2677dd-b4d3-4ebf-9d20-414aed3bb55c",
   "metadata": {},
   "source": [
    "Note: the `as np` bit on the end is not required, but simply aliases the numpy module as `np` so that way we can just refer to it as the shorthand `np`\n",
    "\n",
    "## Basic Usage\n",
    "\n",
    "Lets use numpy to solve the following system of linear equations:\n",
    "$$2x_{1}+1x_{2}=3$$\n",
    "$$1x_{1}+2x_{2}=5$$\n",
    "We can do this using numpy's `linalg` submodule by representing this system as the following matrix equation:\n",
    "$$A\\vec{x}=\\vec{b}$$\n",
    "where:\n",
    "$$A=\\begin{bmatrix}\n",
    "2 & 1 \\\\\n",
    "1 & 2 \\\\\n",
    "\\end{bmatrix}$$\n",
    "$$\\vec{b}=\\begin{bmatrix}\n",
    "3 \\\\\n",
    "5 \\\\\n",
    "\\end{bmatrix}$$\n",
    "and\n",
    "$$\\vec{x}=\\begin{bmatrix}\n",
    "x_{1} \\\\\n",
    "x_{2} \\\\\n",
    "\\end{bmatrix}$$\n",
    "where we want to solve for the vector x."
   ]
  },
  {
   "cell_type": "code",
   "execution_count": 2,
   "id": "178b1568-a509-4657-a19f-ee6f9634e806",
   "metadata": {},
   "outputs": [
    {
     "name": "stdout",
     "output_type": "stream",
     "text": [
      "x = [0.33333333 2.33333333]\n"
     ]
    }
   ],
   "source": [
    "import numpy as np\n",
    "\n",
    "A = [[2, 1], [1, 2]]\n",
    "\n",
    "b = [3, 5]\n",
    "\n",
    "x = np.linalg.solve(A, b)\n",
    "\n",
    "print(f\"x = {x}\")\n"
   ]
  },
  {
   "cell_type": "code",
   "execution_count": null,
   "id": "f5b0b53e-eb5d-4f5a-8bc3-84c8d19d3bff",
   "metadata": {},
   "outputs": [],
   "source": []
  }
 ],
 "metadata": {
  "kernelspec": {
   "display_name": "Python 3 (ipykernel)",
   "language": "python",
   "name": "python3"
  },
  "language_info": {
   "codemirror_mode": {
    "name": "ipython",
    "version": 3
   },
   "file_extension": ".py",
   "mimetype": "text/x-python",
   "name": "python",
   "nbconvert_exporter": "python",
   "pygments_lexer": "ipython3",
   "version": "3.11.4"
  }
 },
 "nbformat": 4,
 "nbformat_minor": 5
}
