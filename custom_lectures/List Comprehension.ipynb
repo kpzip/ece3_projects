{
 "cells": [
  {
   "cell_type": "markdown",
   "id": "3ee263f1-b8be-4574-bf67-e628638a9d1d",
   "metadata": {},
   "source": [
    "# List Comprehension\n",
    "\n",
    "#### Exercise 1:\n",
    "write a program that takes an numerical input n, and prints out a list of n square numbers (1<sup>2</sup>, 2<sup>2</sup>, ..., n<sup>2</sup>)"
   ]
  },
  {
   "cell_type": "code",
   "execution_count": 1,
   "id": "562cbcce-5534-439d-a209-457d846be597",
   "metadata": {
    "collapsed": true,
    "jupyter": {
     "outputs_hidden": true
    }
   },
   "outputs": [
    {
     "name": "stdin",
     "output_type": "stream",
     "text": [
      "Enter a number:  5\n"
     ]
    },
    {
     "name": "stdout",
     "output_type": "stream",
     "text": [
      "[1, 4, 9, 16, 25]\n"
     ]
    }
   ],
   "source": [
    "# Square numbers the normal way\n",
    "\n",
    "n = int(input(\"Enter a number: \"))\n",
    "\n",
    "squares = []\n",
    "for i in range(1, n + 1):\n",
    "    squares.append(i**2)\n",
    "\n",
    "print(squares)\n"
   ]
  },
  {
   "cell_type": "markdown",
   "id": "430ee99c-4dee-477d-9d50-ad38553a2e58",
   "metadata": {},
   "source": [
    "#### Wouldn't it be nice if we could do this in a better way?\n",
    "\n",
    "with this approach we constantly have to append to the list, which can be slow in some cases and is kind of verbose\n",
    "\n",
    "### ...Introducing\n",
    "## List Comprehension!"
   ]
  },
  {
   "cell_type": "code",
   "execution_count": 2,
   "id": "56754faf-cb8a-411e-bbba-359686b20193",
   "metadata": {
    "collapsed": true,
    "jupyter": {
     "outputs_hidden": true
    }
   },
   "outputs": [
    {
     "name": "stdin",
     "output_type": "stream",
     "text": [
      "Enter a number:  5\n"
     ]
    },
    {
     "name": "stdout",
     "output_type": "stream",
     "text": [
      "[1, 4, 9, 16, 25]\n"
     ]
    }
   ],
   "source": [
    "# Square numbers with list comprehension\n",
    "\n",
    "n = int(input(\"Enter a number: \"))\n",
    "\n",
    "squares = [i**2 for i in range(1, n + 1)]\n",
    "\n",
    "print(squares)\n"
   ]
  },
  {
   "cell_type": "markdown",
   "id": "caec56e9-91de-4920-bcf5-498e9552a0c6",
   "metadata": {},
   "source": [
    "### If-statements\n",
    "If statements are allowed in list comprehension"
   ]
  },
  {
   "cell_type": "code",
   "execution_count": 3,
   "id": "11f08991-3493-47e2-aab2-d713d56cd81f",
   "metadata": {
    "collapsed": true,
    "jupyter": {
     "outputs_hidden": true,
     "source_hidden": true
    }
   },
   "outputs": [
    {
     "name": "stdout",
     "output_type": "stream",
     "text": [
      "[0, 200, 400, 600, 800]\n"
     ]
    }
   ],
   "source": [
    "# show even numbers * 100\n",
    "\n",
    "evens_times_100 = [i * 100 for i in range(10) if i %2 == 0]\n",
    "\n",
    "print(evens_times_100)\n"
   ]
  },
  {
   "cell_type": "markdown",
   "id": "8190804d-6de1-403f-8199-ab8de63afb6b",
   "metadata": {},
   "source": [
    "Some other use cases"
   ]
  },
  {
   "cell_type": "code",
   "execution_count": 1,
   "id": "3c7f407a-03b0-43f4-86f0-b89f645a0e39",
   "metadata": {
    "jupyter": {
     "source_hidden": true
    }
   },
   "outputs": [
    {
     "name": "stdout",
     "output_type": "stream",
     "text": [
      "['EE', 'CE']\n"
     ]
    }
   ],
   "source": [
    "# print majors of people whose names start with 'j'\n",
    "\n",
    "majors = {\n",
    "    \"john\": \"EE\",\n",
    "    \"jane\": \"CE\",\n",
    "    \"mark\": \"Physics\",\n",
    "    \"kyle\": \"EE & Chemistry\"\n",
    "}\n",
    "\n",
    "list1 = [major for name, major in majors.items() if name.startswith('j')]\n",
    "\n",
    "print(list1)\n"
   ]
  },
  {
   "cell_type": "markdown",
   "id": "d9b8e1ac-3792-4e05-8a02-0754ec964a59",
   "metadata": {},
   "source": [
    "### Dictionary Comprehension\n",
    "similar to list comprehension uses ``key: value`` syntax"
   ]
  },
  {
   "cell_type": "code",
   "execution_count": 2,
   "id": "292cdd4c-c199-447a-b34e-fa35056cacdd",
   "metadata": {
    "collapsed": true,
    "jupyter": {
     "outputs_hidden": true,
     "source_hidden": true
    }
   },
   "outputs": [
    {
     "name": "stdout",
     "output_type": "stream",
     "text": [
      "{2: 4, 4: 16, 6: 36, 8: 64, 10: 100}\n"
     ]
    }
   ],
   "source": [
    "# simple use case of dictionary comprehension\n",
    "\n",
    "even_squares_dict = {i: i**2 for i in range(1, 11) if i%2 == 0}\n",
    "\n",
    "print(even_squares_dict)"
   ]
  },
  {
   "cell_type": "markdown",
   "id": "b67cd356-e85c-461e-b32d-7604f8f93c15",
   "metadata": {},
   "source": [
    "## Short Avtivity\n",
    "\n",
    "Solve this problem from last weeks lab using list comprehension:\n",
    "\n",
    "Write a code that sums the items of list x and y and adds the result to list z if the sum is bigger than 5. You can assume that the lists are of the same length. Use the following lists to test your code:\r\n",
    "\r\n",
    "x = [1 , 3 , 5 , 6]\r\n",
    "\r\n",
    "y = [12 , 1 , 0 , 2]\n"
   ]
  },
  {
   "cell_type": "code",
   "execution_count": 14,
   "id": "868cc3ae-bd52-48b7-9434-062db760b7d4",
   "metadata": {
    "collapsed": true,
    "jupyter": {
     "outputs_hidden": true
    }
   },
   "outputs": [
    {
     "name": "stdout",
     "output_type": "stream",
     "text": [
      "x: [1, 3, 5, 6]\n",
      "y: [12, 1, 0, 2]\n",
      "z: [13, 8]\n"
     ]
    }
   ],
   "source": [
    "x = [1 , 3 , 5 , 6]\n",
    "y = [12 , 1 , 0 , 2]\n",
    "\n",
    "print(f\"x: {x}\")\n",
    "print(f\"y: {y}\")\n",
    "\n",
    "z = [x[i] + y[i] for i in range(len(x)) if x[i] + y[i] > 5]\n",
    "\n",
    "print(f\"z: {z}\")"
   ]
  }
 ],
 "metadata": {
  "kernelspec": {
   "display_name": "Python 3 (ipykernel)",
   "language": "python",
   "name": "python3"
  },
  "language_info": {
   "codemirror_mode": {
    "name": "ipython",
    "version": 3
   },
   "file_extension": ".py",
   "mimetype": "text/x-python",
   "name": "python",
   "nbconvert_exporter": "python",
   "pygments_lexer": "ipython3",
   "version": "3.10.11"
  }
 },
 "nbformat": 4,
 "nbformat_minor": 5
}
