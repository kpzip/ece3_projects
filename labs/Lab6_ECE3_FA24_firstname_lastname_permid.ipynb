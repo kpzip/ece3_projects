{
 "cells": [
  {
   "cell_type": "markdown",
   "metadata": {
    "id": "qiEY2KX6P9-D"
   },
   "source": [
    "# Lab 6\n",
    "### Due by 11:59pm, Sunday, November 17th.\n",
    "#### Submission: Please replace firstname, lastname and permid in the file name with yours before submitting on Canvas.\n",
    "Reminder: For Multiple Choice Questions, your answers should be formatted as follows:\n",
    "```python\n",
    "def ans_q1():\n",
    "  return 'C' # if the C is the selected option\n",
    "  # Please only add the option and nothing more.\n",
    "```\n",
    "## Grading\n",
    "Multiple Choice, T/F, Fill-in-the-blank Questions: 10% each. Programming Questions: 25% each."
   ]
  },
  {
   "cell_type": "markdown",
   "metadata": {
    "id": "sLjWJGK-b9y2"
   },
   "source": [
    "**Lab TA:**"
   ]
  },
  {
   "cell_type": "markdown",
   "metadata": {
    "id": "TJho0p-BgT6I"
   },
   "source": [
    "### Multiple Choice, T/F, Fill-in-the-blank Questions:\n",
    "\n",
    "**Q1:** Which of the following commands will generate an array of 10 numbers evenly spaced between 1 and 30?\n",
    "\n",
    "A. `np.random.randint(1,30,10)`\n",
    "\n",
    "B. `np.linspace(1,30,10)`\n",
    "\n",
    "C. `np.arange(1,30,1)`\n",
    "\n",
    "D. `np.random.rand(1,30)`"
   ]
  },
  {
   "cell_type": "code",
   "execution_count": null,
   "metadata": {
    "id": "LA4ZJADOic95"
   },
   "outputs": [],
   "source": [
    "def ans_q1():\n",
    "  return 'B'"
   ]
  },
  {
   "cell_type": "markdown",
   "metadata": {
    "id": "yfsit_HYicbf"
   },
   "source": [
    "**Q2.** Which of the following commands will **not** produce a 3x3 identity matrix in NumPy?\n",
    "\n",
    "A. np.ones((3, 3))\n",
    "\n",
    "B. np.identity(3)\n",
    "\n",
    "C. np.eye(3)\n",
    "\n",
    "D. np.diag([1,1,1])\n"
   ]
  },
  {
   "cell_type": "code",
   "execution_count": null,
   "metadata": {
    "id": "V8GyVR2riRi6"
   },
   "outputs": [],
   "source": [
    "def ans_q2():\n",
    "  return 'D'"
   ]
  },
  {
   "cell_type": "markdown",
   "metadata": {
    "id": "eUsmB_zjiM2_"
   },
   "source": [
    "**Q3.** Given two **matrices** A and B, which of the following commands will produce a different output than others?\n",
    "\n",
    "A. A@B\n",
    "\n",
    "B. np.multiply(A,B)\n",
    "\n",
    "C. np.dot(A,B)\n",
    "\n",
    "D. np.matmul(A,B)"
   ]
  },
  {
   "cell_type": "code",
   "execution_count": null,
   "metadata": {
    "id": "-EmusubBiNUs"
   },
   "outputs": [],
   "source": [
    "def ans_q3()\n",
    "  return 'B'"
   ]
  },
  {
   "cell_type": "markdown",
   "metadata": {
    "id": "4Syp3ZEcBmqm"
   },
   "source": [
    "**Q4.**\n",
    "Given the following code snippet, what will be the output?\n",
    "\n",
    "   ```python\n",
    "   import numpy as np\n",
    "   a = np.array([1, 2, 3])\n",
    "   b = np.array([4, 5, 6])\n",
    "   result = np.dot(a, b)\n",
    "   print(result)\n",
    "   ```\n",
    "\n",
    "   A. `[4, 10, 18]`  \n",
    "\n",
    "   B. `32`  \n",
    "\n",
    "   C. `[5, 7, 9]`  \n",
    "\n",
    "   D. `[1, 2, 3, 4, 5, 6]`  "
   ]
  },
  {
   "cell_type": "code",
   "execution_count": null,
   "metadata": {
    "id": "QIydHN52CC3V"
   },
   "outputs": [],
   "source": [
    "def ans_q4():\n",
    "  return 'B'"
   ]
  },
  {
   "cell_type": "markdown",
   "metadata": {
    "id": "coVhfPvPPYPm"
   },
   "source": [
    "**Q5:** Given a matrix `B`, which of the following methods in `numpy` will correctly compute its rank?\n",
    "\n",
    "A) `np.linalg.rank(B)`\n",
    "\n",
    "B) `np.linalg.matrix_rank(B)`\n",
    "\n",
    "C) `np.rank(B)`\n",
    "\n",
    "D) `np.trace(B)`\n"
   ]
  },
  {
   "cell_type": "code",
   "execution_count": null,
   "metadata": {
    "id": "v3eZCq3LPbbO"
   },
   "outputs": [],
   "source": [
    "def ans_q5():\n",
    "  return 'B'"
   ]
  },
  {
   "cell_type": "markdown",
   "metadata": {
    "id": "maAuZp9H53r7"
   },
   "source": [
    "# Programming Questions:"
   ]
  },
  {
   "cell_type": "markdown",
   "metadata": {
    "id": "__5qAkQf57t1"
   },
   "source": [
    "INSTRUCTIONS: Write function, class or method definition(s) as described. If a template is provided, insert code or make changes only where specified. **Do not modify the names of the functions, methods or classes provided in the question or the template.**"
   ]
  },
  {
   "cell_type": "markdown",
   "metadata": {
    "id": "AYxMntIGgVRu"
   },
   "source": [
    "**Q6.** Write a Python function that solves a system of linear equations given in matrix form \\( Ax = b \\) using NumPy.\n",
    "\n",
    "   - The function should accept two inputs: a 2D array `A` (coefficient matrix) and a 1D array `b` (right-hand side values).\n",
    "   - Use NumPy's `linalg.solve` function to find the solution vector `x`.\n",
    "   - If the system is not solvable (singular matrix, or overdetermined or underdetermined system), the function should return `\"System cannot be solved\"`.\n",
    "\n",
    "   **Usage Example:**\n",
    "   ```python\n",
    "   A1 = np.array([[3, 1], [1, 2]])\n",
    "   A2 = np.array([[3, 1], [1, 2], [3, 4]])\n",
    "   A3 = np.array([[1, 1], [2, 2]])\n",
    "   b = np.array([9, 8])\n",
    "   solution1 = solve_linear_system(A1, b)\n",
    "   print(\"Solution 1:\",solution1)\n",
    "   solution2 = solve_linear_system(A2, b)\n",
    "   print(\"Solution 2:\",solution2)\n",
    "   solution3 = solve_linear_system(A3, b)\n",
    "   print(\"Solution 3:\",solution3)\n",
    "   ```\n",
    "   produces:\n",
    "   ```python\n",
    "   Solution 1: [2. 3.]\n",
    "   Solution 2: System cannot be solved: the matrix A is not square (overdetermined or underdetermined).\n",
    "   Solution 3: System cannot be solved: the matrix A is singular (determinant is zero).\n",
    "   ```\n"
   ]
  },
  {
   "cell_type": "code",
   "execution_count": 2,
   "metadata": {
    "id": "rtcPYCRnxEJF"
   },
   "outputs": [
    {
     "name": "stdout",
     "output_type": "stream",
     "text": [
      "Solution 1: [2. 3.]\n",
      "Solution 2: System cannot be solved: the matrix A is not square (overdetermined or underdetermined).\n",
      "Solution 3: System cannot be solved: the matrix A is singular (determinant is zero).\n"
     ]
    }
   ],
   "source": [
    "import numpy as np\n",
    "def solve_linear_system(A, b):\n",
    "    # Check if A is a square matrix\n",
    "    # YOUR CODE\n",
    "    shape = A.shape\n",
    "    if shape[0] != shape[1]:\n",
    "        return \"System cannot be solved: the matrix A is not square (overdetermined or underdetermined).\"\n",
    "\n",
    "    # Check if A is singular (i.e., does not have an inverse)\n",
    "    # YOUR CODE\n",
    "    if np.linalg.det(A) == 0:\n",
    "        return \"System cannot be solved: the matrix A is singular (determinant is zero).\"\n",
    "\n",
    "    try:\n",
    "        # Attempt to solve the system\n",
    "        # YOUR CODE\n",
    "        x = np.linalg.solve(A, b)\n",
    "        return x\n",
    "    except np.linalg.LinAlgError as e:\n",
    "        # Catch any linear algebra error and return a message\n",
    "        return f\"System cannot be solved: {str(e)}\"\n",
    "\n",
    "# Example usage:\n",
    "A1 = np.array([[3, 1], [1, 2]])\n",
    "A2 = np.array([[3, 1], [1, 2], [3, 4]])\n",
    "A3 = np.array([[1, 1], [2, 2]])\n",
    "b = np.array([9, 8])\n",
    "solution1 = solve_linear_system(A1, b)\n",
    "print(\"Solution 1:\",solution1)\n",
    "solution2 = solve_linear_system(A2, b)\n",
    "print(\"Solution 2:\",solution2)\n",
    "solution3 = solve_linear_system(A3, b)\n",
    "print(\"Solution 3:\",solution3)"
   ]
  },
  {
   "cell_type": "markdown",
   "metadata": {
    "id": "FE5Hzohog1bg"
   },
   "source": [
    "**Q7.**\n",
    "Given two matrices A and B, compute the following by completing the code template below:\n",
    "\n",
    "a. The element-wise product of A and B\n",
    "\n",
    "b. The dot product of A and B\n",
    "\n",
    "c. The determinant of each matrix\n",
    "\n",
    "d. The inverse (if defined) of each matrix\n",
    "\n",
    "e. The eigenvalues and eigenvectors of each matrix, if defined.\n",
    "\n",
    "f. min, max, mean, sum of each matrix."
   ]
  },
  {
   "cell_type": "code",
   "execution_count": 6,
   "metadata": {
    "id": "Za-CrBsRhOtx"
   },
   "outputs": [
    {
     "name": "stdout",
     "output_type": "stream",
     "text": [
      "elementwise_product:\n",
      "[[10 28]\n",
      " [ 6 24]]\n",
      "\n",
      "dot_product:\n",
      "[[34 46]\n",
      " [23 31]]\n",
      "\n",
      "determinant_A:\n",
      "2.0\n",
      "\n",
      "determinant_B:\n",
      "-2.000000000000003\n",
      "\n",
      "inverse_A:\n",
      "[[ 1.5 -2. ]\n",
      " [-0.5  1. ]]\n",
      "\n",
      "inverse_B:\n",
      "[[-4.   3.5]\n",
      " [ 3.  -2.5]]\n",
      "\n",
      "eigenvalues_A:\n",
      "[0.43844719 4.56155281]\n",
      "\n",
      "eigenvectors_A:\n",
      "[[-0.93153209 -0.84212294]\n",
      " [ 0.36365914 -0.5392856 ]]\n",
      "\n",
      "eigenvalues_B:\n",
      "[-0.15206735 13.15206735]\n",
      "\n",
      "eigenvectors_B:\n",
      "[[-0.80537591 -0.65146248]\n",
      " [ 0.59276441 -0.75868086]]\n",
      "\n",
      "min_A:\n",
      "1\n",
      "\n",
      "max_A:\n",
      "4\n",
      "\n",
      "mean_A:\n",
      "2.5\n",
      "\n",
      "sum_A:\n",
      "10\n",
      "\n",
      "min_B:\n",
      "5\n",
      "\n",
      "max_B:\n",
      "8\n",
      "\n",
      "mean_B:\n",
      "6.5\n",
      "\n",
      "sum_B:\n",
      "26\n",
      "\n"
     ]
    }
   ],
   "source": [
    "import numpy as np\n",
    "\n",
    "def matrix_operations(A, B):\n",
    "    results = {}\n",
    "\n",
    "    # Ensure matrices A and B have the same dimensions for element-wise operations\n",
    "    if A.shape[0] == B.shape[0]: # YOUR CODE: CHECK FOR DIMENSION MATCHING\n",
    "        # a. Element-wise product\n",
    "        results['elementwise_product'] = A * B\n",
    "    else:\n",
    "        results['elementwise_product'] = \"Not defined: Matrices have different shapes.\"\n",
    "\n",
    "    # b. Dot product (only defined if columns in A == rows in B)\n",
    "    try:\n",
    "        results['dot_product'] = np.dot(A, B)\n",
    "    except ValueError:\n",
    "        results['dot_product'] = \"Not defined: Dimensions do not align for dot product.\"\n",
    "\n",
    "    # c. Determinant of each matrix (only for square matrices)\n",
    "    if A.shape[0] == A.shape[1]:\n",
    "        results['determinant_A'] = np.linalg.det(A)\n",
    "    else:\n",
    "        results['determinant_A'] = \"Not defined: A is not square.\"\n",
    "\n",
    "    if B.shape[0] == B.shape[1]:\n",
    "        results['determinant_B'] = np.linalg.det(B)\n",
    "    else:\n",
    "        results['determinant_B'] = \"Not defined: B is not square.\"\n",
    "\n",
    "    # d. Inverse of each matrix (only for square matrices with non-zero determinant)\n",
    "    if A.shape[0] == A.shape[1] and np.linalg.det(A) != 0:\n",
    "        results['inverse_A'] = np.linalg.inv(A)\n",
    "    else:\n",
    "        results['inverse_A'] = \"Not defined: A is not square or is singular.\"\n",
    "\n",
    "    if B.shape[0] == B.shape[1] and np.linalg.det(B) != 0:\n",
    "        results['inverse_B'] = np.linalg.inv(B)\n",
    "    else:\n",
    "        results['inverse_B'] = \"Not defined: B is not square or is singular.\"\n",
    "\n",
    "    # e. Eigenvalues and eigenvectors (only for square matrices)\n",
    "    if A.shape[0] == A.shape[1]:\n",
    "        eigvals_A, eigvecs_A = np.linalg.eig(A)\n",
    "        results['eigenvalues_A'] = eigvals_A\n",
    "        results['eigenvectors_A'] = eigvecs_A\n",
    "    else:\n",
    "        results['eigenvalues_A'] = \"Not defined: A is not square.\"\n",
    "        results['eigenvectors_A'] = \"Not defined: A is not square.\"\n",
    "\n",
    "    if B.shape[0] == B.shape[1]:\n",
    "        eigvals_B, eigvecs_B = np.linalg.eig(B)\n",
    "        results['eigenvalues_B'] = eigvals_B\n",
    "        results['eigenvectors_B'] = eigvecs_B\n",
    "    else:\n",
    "        results['eigenvalues_B'] = \"Not defined: B is not square.\"\n",
    "        results['eigenvectors_B'] = \"Not defined: B is not square.\"\n",
    "\n",
    "    # f. Min, max, mean, sum of each matrix\n",
    "    results['min_A'] = np.min(A)\n",
    "    results['max_A'] = np.max(A)\n",
    "    results['mean_A'] = np.mean(A)\n",
    "    results['sum_A'] = np.sum(A)\n",
    "\n",
    "    results['min_B'] = np.min(B)\n",
    "    results['max_B'] = np.max(B)\n",
    "    results['mean_B'] = np.mean(B)\n",
    "    results['sum_B'] = np.sum(B)\n",
    "\n",
    "    return results\n",
    "\n",
    "# Example usage\n",
    "A = np.array([[2, 4], [1, 3]])\n",
    "B = np.array([[5, 7], [6, 8]])\n",
    "results = matrix_operations(A, B)\n",
    "\n",
    "# Display the results\n",
    "for key, value in results.items():\n",
    "    print(f\"{key}:\")\n",
    "    print(value)\n",
    "    print()\n"
   ]
  },
  {
   "cell_type": "code",
   "execution_count": null,
   "metadata": {
    "id": "MlfSfIry5Zxo"
   },
   "outputs": [],
   "source": [
    "# Expected results:\n",
    "elementwise_product:\n",
    "[[10 28]\n",
    " [ 6 24]]\n",
    "\n",
    "dot_product:\n",
    "[[34 46]\n",
    " [23 31]]\n",
    "\n",
    "determinant_A:\n",
    "2.0\n",
    "\n",
    "determinant_B:\n",
    "-1.999999999999998\n",
    "\n",
    "inverse_A:\n",
    "[[ 1.5 -2. ]\n",
    " [-0.5  1. ]]\n",
    "\n",
    "inverse_B:\n",
    "[[-4.   3.5]\n",
    " [ 3.  -2.5]]\n",
    "\n",
    "eigenvalues_A:\n",
    "[0.43844719 4.56155281]\n",
    "\n",
    "eigenvectors_A:\n",
    "[[-0.93153209 -0.84212294]\n",
    " [ 0.36365914 -0.5392856 ]]\n",
    "\n",
    "eigenvalues_B:\n",
    "[-0.15206735 13.15206735]\n",
    "\n",
    "eigenvectors_B:\n",
    "[[-0.80537591 -0.65146248]\n",
    " [ 0.59276441 -0.75868086]]\n",
    "\n",
    "min_A:\n",
    "1\n",
    "\n",
    "max_A:\n",
    "4\n",
    "\n",
    "mean_A:\n",
    "2.5\n",
    "\n",
    "sum_A:\n",
    "10\n",
    "\n",
    "min_B:\n",
    "5\n",
    "\n",
    "max_B:\n",
    "8\n",
    "\n",
    "mean_B:\n",
    "6.5\n",
    "\n",
    "sum_B:\n",
    "26"
   ]
  }
 ],
 "metadata": {
  "colab": {
   "provenance": [
    {
     "file_id": "13uK-5WlmMECJw40X1D9TyippE3kktuCm",
     "timestamp": 1729228000865
    },
    {
     "file_id": "1UiH1JAdtAx71JoEaMD20BAgBkluPUTZg",
     "timestamp": 1729225300565
    }
   ]
  },
  "kernelspec": {
   "display_name": "Python 3 (ipykernel)",
   "language": "python",
   "name": "python3"
  },
  "language_info": {
   "codemirror_mode": {
    "name": "ipython",
    "version": 3
   },
   "file_extension": ".py",
   "mimetype": "text/x-python",
   "name": "python",
   "nbconvert_exporter": "python",
   "pygments_lexer": "ipython3",
   "version": "3.11.4"
  }
 },
 "nbformat": 4,
 "nbformat_minor": 4
}
