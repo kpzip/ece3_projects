{
 "cells": [
  {
   "cell_type": "markdown",
   "metadata": {
    "id": "QN0sXvYFk3_4"
   },
   "source": [
    "## ECE3 Fall24 HW 1 (lab1) (Due by 11PM, Monday, October 14th.)"
   ]
  },
  {
   "cell_type": "markdown",
   "metadata": {
    "id": "4pcaMYsNlDct"
   },
   "source": [
    "Please first make a copy of this notebook to your Google drive and edit it. Canvas link for file submission will be provided."
   ]
  },
  {
   "cell_type": "markdown",
   "metadata": {
    "id": "bk8LjAkzw4Bf"
   },
   "source": [
    "## Multiple Choice Questions"
   ]
  },
  {
   "cell_type": "markdown",
   "metadata": {
    "id": "_Lp3J7j0l0s3"
   },
   "source": [
    "### Question 1\n"
   ]
  },
  {
   "cell_type": "markdown",
   "metadata": {
    "id": "EOsOd7ldxD3g"
   },
   "source": [
    "What is the output of the following code?"
   ]
  },
  {
   "cell_type": "code",
   "execution_count": null,
   "metadata": {
    "id": "EgG34bCXk0SH"
   },
   "outputs": [],
   "source": [
    "x = ['a','b','c','d']\n",
    "print(x[1:-1])"
   ]
  },
  {
   "cell_type": "markdown",
   "metadata": {
    "id": "fDSsGwMGxbWk"
   },
   "source": [
    "a) ['a' , 'b' , 'c']\n",
    "\n",
    "**b) ['b' , 'c']**\n",
    "\n",
    "c) ['a' , 'b' , 'c' , 'd']\n",
    "\n",
    "d) ['b' , 'c' , 'd']"
   ]
  },
  {
   "cell_type": "markdown",
   "metadata": {
    "id": "8GpUKxqUEBto"
   },
   "source": [
    "### Question 2\n",
    "\n",
    "Which statement is ***False*** ?\n",
    "\n",
    "a) A list can accept python classes.\n",
    "\n",
    "**b) A list can only have items of the same data type.**\n",
    "\n",
    "c) Python supports variables that are list of lists with different length.\n",
    "\n",
    "d) A list can contain any data type."
   ]
  },
  {
   "cell_type": "markdown",
   "metadata": {},
   "source": [
    "### Question 3\n",
    "\n",
    "What will be the output of the following code?\n",
    "\n",
    "```\n",
    "x = 5\n",
    "y = 10\n",
    "z1 = x + y * 2.0\n",
    "z2 = x + y * 2\n",
    "print(type(z1),'&',type(z2))\n",
    "```\n",
    "a) <class 'float'> & <class 'float'>\n",
    "\n",
    "b) <class 'int'> & <class 'float'>  \n",
    "\n",
    "c) <class 'int'> & <class 'int'>  \n",
    "\n",
    "**d) <class 'float'> & <class 'int'>**"
   ]
  },
  {
   "cell_type": "markdown",
   "metadata": {
    "id": "aM_4Kzu8GX-Z"
   },
   "source": [
    "## Code"
   ]
  },
  {
   "cell_type": "markdown",
   "metadata": {
    "id": "rfdcsggaGcTR"
   },
   "source": [
    "### Question 4\n",
    "\n",
    "Write a program that prints the nth value in an arbitrary list of integers and produces an output like the following: *The n-th item of the list is --- .*  \n",
    "Where n is input by the user and the --- is the nth item of an arbitrary list of 5 or more integers. The program should print an error message if \"n\" is not within the bounds of the list. You can assume that n is an integer. You can try your code with the following list:\n",
    "\n",
    "A = [10, 20, 30, 40, 50]\n",
    "\n",
    "Ans:"
   ]
  },
  {
   "cell_type": "code",
   "execution_count": 11,
   "metadata": {
    "id": "xw1fCoyLITzt"
   },
   "outputs": [
    {
     "name": "stdin",
     "output_type": "stream",
     "text": [
      "Enter n:  5\n"
     ]
    },
    {
     "name": "stdout",
     "output_type": "stream",
     "text": [
      "index 5 is outside the bounds of A.\n"
     ]
    }
   ],
   "source": [
    "# our list\n",
    "A = [10, 20, 30, 40, 50]\n",
    "\n",
    "n = int(input(\"Enter n: \"))\n",
    "\n",
    "if n >= 0 and n < len(A):\n",
    "    element = A[n]\n",
    "    print(f\"The n-th item of the list is {element}\")\n",
    "else:\n",
    "    print(f\"index {n} is outside the bounds of A.\")\n",
    "\n"
   ]
  },
  {
   "cell_type": "markdown",
   "metadata": {
    "id": "uNhc_cRlIX_r"
   },
   "source": [
    "### Question 5\n",
    "\n",
    "Write a program that starts with a dictionary of student names and majors. Ask for a student name from the user and print the major if the student exists in the dictionary. If the student doesn't exist, the program should print a message accordingly. To exit, the user can simply hit enter/return. Use this data to test your code: john, ECE, jane, ECE, mark, Physics.<br>  \n",
    "Sample Output:  \n",
    "Name: john Major: ECE  \n",
    "paul is not found in the dictionary."
   ]
  },
  {
   "cell_type": "markdown",
   "metadata": {
    "id": "5vS2IZIxMeSr"
   },
   "source": [
    "Ans :"
   ]
  },
  {
   "cell_type": "code",
   "execution_count": 2,
   "metadata": {},
   "outputs": [
    {
     "name": "stdin",
     "output_type": "stream",
     "text": [
      "Enter student name:  john\n"
     ]
    },
    {
     "name": "stdout",
     "output_type": "stream",
     "text": [
      "Name: john Major: ECE\n"
     ]
    },
    {
     "name": "stdin",
     "output_type": "stream",
     "text": [
      "Enter student name:  jane\n"
     ]
    },
    {
     "name": "stdout",
     "output_type": "stream",
     "text": [
      "Name: jane Major: ECE\n"
     ]
    },
    {
     "name": "stdin",
     "output_type": "stream",
     "text": [
      "Enter student name:  mark\n"
     ]
    },
    {
     "name": "stdout",
     "output_type": "stream",
     "text": [
      "Name: mark Major: Physics\n"
     ]
    },
    {
     "name": "stdin",
     "output_type": "stream",
     "text": [
      "Enter student name:  kyle\n"
     ]
    },
    {
     "name": "stdout",
     "output_type": "stream",
     "text": [
      "Name: kyle Major: all of 'em\n"
     ]
    },
    {
     "name": "stdin",
     "output_type": "stream",
     "text": [
      "Enter student name:  bob\n"
     ]
    },
    {
     "name": "stdout",
     "output_type": "stream",
     "text": [
      "bob is not found in the dictionary.\n"
     ]
    },
    {
     "name": "stdin",
     "output_type": "stream",
     "text": [
      "Enter student name:  abcd\n"
     ]
    },
    {
     "name": "stdout",
     "output_type": "stream",
     "text": [
      "abcd is not found in the dictionary.\n"
     ]
    },
    {
     "name": "stdin",
     "output_type": "stream",
     "text": [
      "Enter student name:  quit\n"
     ]
    }
   ],
   "source": [
    "majors = {\n",
    "    \"john\": \"ECE\",\n",
    "    \"jane\": \"ECE\",\n",
    "    \"mark\": \"Physics\",\n",
    "    \"kyle\": \"all of 'em\"\n",
    "}\n",
    "\n",
    "while (True):\n",
    "    lookup = input(\"Enter student name: \")\n",
    "    if lookup == \"\" or lookup == \"quit\":\n",
    "        break\n",
    "    if lookup in majors:\n",
    "        major = majors[lookup]\n",
    "        print(f\"Name: {lookup} Major: {major}\")\n",
    "    else:\n",
    "        print(f\"{lookup} is not found in the dictionary.\")\n",
    "\n"
   ]
  },
  {
   "cell_type": "markdown",
   "metadata": {
    "id": "NHX__879MgLz"
   },
   "source": [
    "### Question 6\n",
    "\n",
    "Write a code that sums the items of list x and y and adds the result to list z if the sum is bigger than 5. You can assume that the lists are of the same length. Use the following lists to test your code:\n",
    "\n",
    "x = [1 , 3 , 5 , 6]\n",
    "\n",
    "y = [12 , 1 , 0 , 2]\n",
    "\n",
    "\n",
    "Ans:"
   ]
  },
  {
   "cell_type": "code",
   "execution_count": 17,
   "metadata": {
    "id": "s59hUWpkNS86"
   },
   "outputs": [
    {
     "name": "stdout",
     "output_type": "stream",
     "text": [
      "x: [1, 3, 5, 6]\n",
      "y: [12, 1, 0, 2]\n",
      "z: []\n",
      "x: [1, 3, 5, 6]\n",
      "y: [12, 1, 0, 2]\n",
      "z: [30]\n"
     ]
    }
   ],
   "source": [
    "x = [1 , 3 , 5 , 6]\n",
    "y = [12 , 1 , 0 , 2]\n",
    "\n",
    "z = []\n",
    "\n",
    "print(f\"x: {x}\")\n",
    "print(f\"y: {y}\")\n",
    "print(f\"z: {z}\")\n",
    "\n",
    "sum = 0\n",
    "for i in x:\n",
    "    sum += i\n",
    "for i in y:\n",
    "    sum += i\n",
    "\n",
    "if sum > 5:\n",
    "    z.append(sum)\n",
    "\n",
    "print(f\"x: {x}\")\n",
    "print(f\"y: {y}\")\n",
    "print(f\"z: {z}\")\n"
   ]
  },
  {
   "cell_type": "markdown",
   "metadata": {},
   "source": [
    "### Question 7\n",
    "Complete the code below to print the following patterns. \n",
    "```python\n",
    "# First Pattern\n",
    "**********\n",
    "**********\n",
    "**********\n",
    "**********\n",
    "**********\n",
    "**********\n",
    "**********\n",
    "**********\n",
    "**********\n",
    "**********\n",
    "\n",
    "# Second Pattern\n",
    "*\n",
    "**\n",
    "***\n",
    "****\n",
    "*****\n",
    "******\n",
    "*******\n",
    "********\n",
    "*********\n",
    "\n",
    "# Third Pattern\n",
    "**********\n",
    "*********\n",
    "********\n",
    "*******\n",
    "******\n",
    "*****\n",
    "****\n",
    "***\n",
    "**\n",
    "*\n",
    "\n",
    "```\n"
   ]
  },
  {
   "cell_type": "code",
   "execution_count": 4,
   "metadata": {},
   "outputs": [
    {
     "name": "stdout",
     "output_type": "stream",
     "text": [
      "\n",
      "First Pattern\n",
      "**********\n",
      "**********\n",
      "**********\n",
      "**********\n",
      "**********\n",
      "**********\n",
      "**********\n",
      "**********\n",
      "**********\n",
      "**********\n",
      "\n",
      "Second Pattern\n",
      "\n",
      "*\n",
      "**\n",
      "***\n",
      "****\n",
      "*****\n",
      "******\n",
      "*******\n",
      "********\n",
      "*********\n",
      "\n",
      "Third Pattern\n",
      "**********\n",
      "*********\n",
      "********\n",
      "*******\n",
      "******\n",
      "*****\n",
      "****\n",
      "***\n",
      "**\n",
      "*\n"
     ]
    }
   ],
   "source": [
    "n = 10\n",
    "\n",
    "# First Pattern\n",
    "print(\"\\nFirst Pattern\")\n",
    "for i in range(n):\n",
    "  for j in range(n):\n",
    "    print('*', end='')\n",
    "  print()\n",
    "\n",
    "# Second Pattern\n",
    "print(\"\\nSecond Pattern\")\n",
    "for i in range(n):\n",
    "  for j in range(i):\n",
    "    print('*', end='')\n",
    "  print()\n",
    "\n",
    "# Third Pattern\n",
    "print(\"\\nThird Pattern\")\n",
    "for i in range(n):\n",
    "  for j in range(n - i):\n",
    "    print('*', end='')\n",
    "  print()"
   ]
  }
 ],
 "metadata": {
  "colab": {
   "provenance": [
    {
     "file_id": "1J3uBw3yI9TsSXL1-20ckEUNuKToHrdN4",
     "timestamp": 1727838623762
    }
   ]
  },
  "kernelspec": {
   "display_name": "Python 3 (ipykernel)",
   "language": "python",
   "name": "python3"
  },
  "language_info": {
   "codemirror_mode": {
    "name": "ipython",
    "version": 3
   },
   "file_extension": ".py",
   "mimetype": "text/x-python",
   "name": "python",
   "nbconvert_exporter": "python",
   "pygments_lexer": "ipython3",
   "version": "3.11.4"
  }
 },
 "nbformat": 4,
 "nbformat_minor": 4
}
