{
 "cells": [
  {
   "cell_type": "markdown",
   "metadata": {
    "id": "qiEY2KX6P9-D"
   },
   "source": [
    "# Lab 3: Due by 11:59pm, Friday, October 25th.\n",
    "GENERAL INSTRUCTIONS: Please replace firstname, lastname and permid in the file name with yours before submitting on Canvas. Multiple Choice Questions: 10% each. Programming Questions: 25% each. Due by 11:59pm, Friday, October 25th."
   ]
  },
  {
   "cell_type": "markdown",
   "metadata": {
    "id": "DH6Gjhka5Ybd"
   },
   "source": [
    "MCQ INSTRUCTIONS: For multiple choice questions, simply fill in the letter of choice in the return statement. E.g. return 'C' if the answer is C. Do not add anything else."
   ]
  },
  {
   "cell_type": "markdown",
   "metadata": {
    "id": "TJho0p-BgT6I"
   },
   "source": [
    "### Multiple Choice Questions (MCQs):\n",
    "\n",
    "Q1. Which of the following statements about Python classes is true?\n",
    "\n",
    "A) A class can have only one constructor.\n",
    "\n",
    "B) The `__init__()` method is automatically called when an instance is created.\n",
    "\n",
    "C) A class can only inherit from one parent class.\n",
    "\n",
    "D) The `self` keyword is optional in a method definition.\n",
    "\n",
    "\n",
    "\n",
    "\n",
    "\n"
   ]
  },
  {
   "cell_type": "code",
   "execution_count": null,
   "metadata": {
    "id": "LA4ZJADOic95"
   },
   "outputs": [],
   "source": [
    "def ans_q1():\n",
    "  return 'D'"
   ]
  },
  {
   "cell_type": "markdown",
   "metadata": {
    "id": "yfsit_HYicbf"
   },
   "source": [
    "Q2. Which of the following exceptions will be raised by this code?\n",
    "\n",
    "```python\n",
    "my_list = [1, 2, 3]\n",
    "print(my_list[5])\n",
    "```\n",
    "\n",
    "A) `KeyError`  \n",
    "B) `IndexError`  \n",
    "C) `TypeError`  \n",
    "D) `ValueError`\n"
   ]
  },
  {
   "cell_type": "code",
   "execution_count": null,
   "metadata": {
    "id": "V8GyVR2riRi6"
   },
   "outputs": [],
   "source": [
    "def ans_q2():\n",
    "  return 'B'"
   ]
  },
  {
   "cell_type": "markdown",
   "metadata": {
    "id": "eUsmB_zjiM2_"
   },
   "source": [
    "Q3. What is the output of the following code?\n",
    "\n",
    "```python\n",
    "def add_numbers(a, b=5):\n",
    "    return a + b\n",
    "\n",
    "result = add_numbers(3)\n",
    "print(result)\n",
    "```\n",
    "\n",
    "A) `8`  \n",
    "B) `5`  \n",
    "C) `3`  \n",
    "D) `Error: missing required positional argument 'b'`\n"
   ]
  },
  {
   "cell_type": "code",
   "execution_count": null,
   "metadata": {
    "id": "-EmusubBiNUs"
   },
   "outputs": [],
   "source": [
    "def ans_q3()\n",
    "  return 'A'"
   ]
  },
  {
   "cell_type": "markdown",
   "metadata": {
    "id": "4Syp3ZEcBmqm"
   },
   "source": [
    "Q4. Which method would you use to find the position of the first occurrence of the substring \"learn\" in the string \"time to learn Python\"?\n",
    "\n",
    "A) \"time to learn Python\".find(\"learn\")\n",
    "\n",
    "B) \"time to learn Python\".index(\"learn\")\n",
    "\n",
    "C) \"time to learn Python\".search(\"learn\")\n",
    "\n",
    "D) Both A and B"
   ]
  },
  {
   "cell_type": "code",
   "execution_count": null,
   "metadata": {
    "id": "QIydHN52CC3V"
   },
   "outputs": [],
   "source": [
    "def ans_q4():\n",
    "  return 'D'"
   ]
  },
  {
   "cell_type": "markdown",
   "metadata": {
    "id": "gUghlTk6PBtO"
   },
   "source": [
    "Q5. What is the output of the following list comprehension?"
   ]
  },
  {
   "cell_type": "code",
   "execution_count": null,
   "metadata": {
    "id": "oOhEgWULPRDD"
   },
   "outputs": [],
   "source": [
    "s = [x**2 for x in range(5)]\n",
    "print(s)"
   ]
  },
  {
   "cell_type": "markdown",
   "metadata": {
    "id": "coVhfPvPPYPm"
   },
   "source": [
    "A)   [0, 1, 2, 3, 4]\n",
    "\n",
    "B)   [0, 1, 4, 9, 16, 25]\n",
    "\n",
    "C)   [0, 1, 4, 9, 16]\n",
    "\n",
    "D)   [1, 4, 9, 16, 25]"
   ]
  },
  {
   "cell_type": "code",
   "execution_count": null,
   "metadata": {
    "id": "v3eZCq3LPbbO"
   },
   "outputs": [],
   "source": [
    "def ans_q5():\n",
    "  return 'C'"
   ]
  },
  {
   "cell_type": "markdown",
   "metadata": {
    "id": "maAuZp9H53r7"
   },
   "source": [
    "# Programming Questions:"
   ]
  },
  {
   "cell_type": "markdown",
   "metadata": {
    "id": "__5qAkQf57t1"
   },
   "source": [
    "INSTRUCTIONS: Write a function as described or if a template is provided, complete the template as described. Do not change the name of the given functions."
   ]
  },
  {
   "cell_type": "markdown",
   "metadata": {
    "id": "AYxMntIGgVRu"
   },
   "source": [
    "Q6. Write a Python function that returns a list of the first n Fibonacci numbers, where n is an input parameter to the function. If n is 0 or negative the function should return an empty list.\n",
    "\n",
    "\n"
   ]
  },
  {
   "cell_type": "code",
   "execution_count": 7,
   "metadata": {
    "id": "BPfgUii2g1_A"
   },
   "outputs": [],
   "source": [
    "\n",
    "# Function definition\n",
    "def first_n_fibonacci(n):\n",
    "    # Your code here. Return a list.\n",
    "    fibonaccis = []\n",
    "    if n < 0:\n",
    "        return fibonaccis\n",
    "    prev_fibonacci = 1\n",
    "    current_fibonacci = 1\n",
    "    next_fibonacci = 2\n",
    "    for _ in range(n):\n",
    "        fibonaccis.append(prev_fibonacci)\n",
    "        prev_fibonacci = current_fibonacci\n",
    "        current_fibonacci = next_fibonacci\n",
    "        next_fibonacci = prev_fibonacci + current_fibonacci\n",
    "    return fibonaccis\n",
    "\n",
    "\n",
    "\n"
   ]
  },
  {
   "cell_type": "code",
   "execution_count": 8,
   "metadata": {
    "id": "Q-GCUniOg9Pc"
   },
   "outputs": [
    {
     "name": "stdout",
     "output_type": "stream",
     "text": [
      "[1, 1, 2, 3, 5, 8, 13, 21, 34, 55]\n",
      "[]\n",
      "[]\n"
     ]
    }
   ],
   "source": [
    "# Example usage\n",
    "print(first_n_fibonacci(10))  # Expected output: [1, 1, 2, 3, 5, 8, 13, 21, 34, 55]\n",
    "print(first_n_fibonacci(0))  # Expected output: []\n",
    "print(first_n_fibonacci(-5))  # Expected output: []\n"
   ]
  },
  {
   "cell_type": "markdown",
   "metadata": {
    "id": "FE5Hzohog1bg"
   },
   "source": [
    "\n",
    "Q7. Complete the class definition below for the class `Student` that has public attributes `name` and `score`. Define a public method `is_passed()` that returns `True` if the student has a score of greater than 50 and `False` otherwise. Next write a list comprehension to filter out students who passed from a list of student objects. Your list comprehension should use the is_passed() method of the Student class.\n",
    "\n"
   ]
  },
  {
   "cell_type": "code",
   "execution_count": 11,
   "metadata": {
    "id": "t7M4mzeTg_9r"
   },
   "outputs": [],
   "source": [
    "\n",
    "# Class definition\n",
    "class Student:\n",
    "    def __init__(self, name, score):\n",
    "        # Your code \n",
    "        self.name = name\n",
    "        self.score = score\n",
    "\n",
    "    def is_passed(self):\n",
    "        # Your code here\n",
    "        return self.score > 50\n",
    "\n",
    "\n"
   ]
  },
  {
   "cell_type": "code",
   "execution_count": 12,
   "metadata": {
    "id": "Za-CrBsRhOtx"
   },
   "outputs": [
    {
     "name": "stdout",
     "output_type": "stream",
     "text": [
      "['Bob', 'Charlie']\n"
     ]
    }
   ],
   "source": [
    "# List of students\n",
    "students = [Student(\"Alice\", 35), Student(\"Bob\", 55), Student(\"Charlie\", 70)]\n",
    "\n",
    "# Write the List comprehension to filter students who passed below\n",
    "passed_students = [s.name for s in students if s.is_passed()]   # Your code here\n",
    "\n",
    "print(passed_students) # Expected output: [\"Bob\", \"Charlie\"]"
   ]
  },
  {
   "cell_type": "code",
   "execution_count": null,
   "metadata": {},
   "outputs": [],
   "source": []
  }
 ],
 "metadata": {
  "colab": {
   "provenance": []
  },
  "kernelspec": {
   "display_name": "Python 3 (ipykernel)",
   "language": "python",
   "name": "python3"
  },
  "language_info": {
   "codemirror_mode": {
    "name": "ipython",
    "version": 3
   },
   "file_extension": ".py",
   "mimetype": "text/x-python",
   "name": "python",
   "nbconvert_exporter": "python",
   "pygments_lexer": "ipython3",
   "version": "3.11.4"
  }
 },
 "nbformat": 4,
 "nbformat_minor": 4
}
