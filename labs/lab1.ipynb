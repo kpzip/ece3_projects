{
 "cells": [
  {
   "cell_type": "markdown",
   "id": "93979a12",
   "metadata": {
    "id": "93979a12"
   },
   "source": [
    "# ECE-3 Lab 1\n",
    "\n",
    "**General Instructions**\n",
    "- The code snippets below were created for demonstrating various aspects of Python. Feel free to play around with them. \n",
    "- Let the TA know should you require any clarification.\n",
    "\n",
    "> Really the _sky_ is the limit !"
   ]
  },
  {
   "cell_type": "markdown",
   "id": "ed3afb5f",
   "metadata": {
    "id": "ed3afb5f"
   },
   "source": [
    "## Contents\n",
    "1. [Notebook Basics](#Notebook-Basics)\n",
    "2. [Variables, Lists and more](#Variables)\n",
    "3. [Conditional Statements (if-elif-else)](#Conditional-Statements)\n",
    "4. [Loops (for/while)](#Loops)\n",
    "5. [Functions](#Functions)\n",
    "6. [NumPy](#NumPy)"
   ]
  },
  {
   "cell_type": "markdown",
   "id": "a4b22538",
   "metadata": {
    "id": "a4b22538"
   },
   "source": [
    "## Notebook Basics"
   ]
  },
  {
   "cell_type": "markdown",
   "id": "9581db59",
   "metadata": {
    "id": "9581db59"
   },
   "source": [
    "`Markdown`"
   ]
  },
  {
   "cell_type": "markdown",
   "id": "6b3fc3e9",
   "metadata": {
    "id": "6b3fc3e9"
   },
   "source": [
    "This is a simple line of text.\n",
    "\n",
    "This text is **bolded** and *italicized*.\n",
    "\n",
    "Below we show various levels of heading. (No. of # indicate the level, 1 being highest)\n",
    "\n",
    "# Heading 1\n",
    "## Heading 2\n",
    "### Heading 3\n",
    "#### Heading 4\n",
    "##### Heading 5\n",
    "###### Heading 6\n",
    "\n",
    "\n",
    "\n",
    "Here is an example of a ordered list.\n",
    "1. First point\n",
    "2. Second point etc..\n",
    "\n",
    "Below is an bulleted list.\n",
    "- First point\n",
    "- Second point etc..\n",
    "\n",
    "\n",
    "This shows how to [hyperlink a text](http://zoomquilt.org/) (Click here, seriously !)\n"
   ]
  },
  {
   "cell_type": "markdown",
   "id": "77aa2925",
   "metadata": {
    "id": "77aa2925"
   },
   "source": [
    "`LaTeX` (your math mate)"
   ]
  },
  {
   "cell_type": "markdown",
   "id": "0c493769",
   "metadata": {
    "id": "0c493769"
   },
   "source": [
    "$$\n",
    "E = m \\: c^2\\\\\n",
    "c = 2 \\: \\pi \\: r \\\\\n",
    "a = \\pi \\: r^2\n",
    "$$"
   ]
  },
  {
   "cell_type": "markdown",
   "id": "9e7350f1",
   "metadata": {
    "id": "9e7350f1"
   },
   "source": [
    "`Code`"
   ]
  },
  {
   "cell_type": "code",
   "execution_count": null,
   "id": "7c611f7f",
   "metadata": {
    "id": "7c611f7f"
   },
   "outputs": [],
   "source": [
    "x = 2+3\n",
    "y = 5+1\n",
    "print(x+y)"
   ]
  },
  {
   "cell_type": "markdown",
   "id": "1c15cf69",
   "metadata": {
    "id": "1c15cf69"
   },
   "source": [
    "[Go back to contents](#Contents)"
   ]
  },
  {
   "cell_type": "markdown",
   "id": "fc311bce",
   "metadata": {
    "id": "fc311bce"
   },
   "source": [
    "## Variables"
   ]
  },
  {
   "cell_type": "markdown",
   "id": "c2081198",
   "metadata": {
    "id": "c2081198"
   },
   "source": [
    "Variables make computations easy and repeatable. Let's start by defining five integer variables and see how the output responds to changing them."
   ]
  },
  {
   "cell_type": "code",
   "execution_count": null,
   "id": "81dd590b",
   "metadata": {
    "id": "81dd590b"
   },
   "outputs": [],
   "source": [
    "# 5 variables defined below. Try changing them and see how output changes when the code is run\n",
    "num1 = 1\n",
    "num2 = 2\n",
    "num3 = 3\n",
    "num4 = 4\n",
    "num5 = 5\n",
    "\n",
    "# Example: Sum of all numbers\n",
    "print('Total Sum:', num1 + num2 + num3 + num4 + num5)\n",
    "\n",
    "# Example: Product of all numbers\n",
    "print('Total Product:',num1 * num2 * num3 * num4 * num5)"
   ]
  },
  {
   "cell_type": "markdown",
   "id": "7e11960c",
   "metadata": {
    "id": "7e11960c"
   },
   "source": [
    "Iterable variables like **lists** or **tuples** help organize data in meaningful ways. Combining this with numeric operations allows easy and versatile computations to be done."
   ]
  },
  {
   "cell_type": "code",
   "execution_count": null,
   "id": "8e4e64ec",
   "metadata": {
    "id": "8e4e64ec"
   },
   "outputs": [],
   "source": [
    "# Example: Storing x-y coordinates as lists. \n",
    "# Try changing the numbers and see how the output responds!\n",
    "point1 = [4.7, 7.9]\n",
    "point2 = [5.0, -10.3]\n",
    "point3 = [8.1, 9.374]\n",
    "\n",
    "# Example: Calculating the distances between the points. \n",
    "# Note that lists and tuples (and most iterable types in Python) begin with index '0'\n",
    "dist12 = ((point1[0]-point2[0])**2 + (point1[1]-point2[1])**2)**(0.5)\n",
    "dist13 = ((point1[0]-point3[0])**2 + (point1[1]-point3[1])**2)**(0.5)\n",
    "dist23 = ((point2[0]-point3[0])**2 + (point2[1]-point3[1])**2)**(0.5)\n",
    "\n",
    "# Display the distances between points using print statements\n",
    "print('The distance between the points', point1, 'and', point2, 'is', dist12)\n",
    "print('The distance between the points', point1, 'and', point3, 'is', dist13)\n",
    "print('The distance between the points', point2, 'and', point3, 'is', dist23)"
   ]
  },
  {
   "cell_type": "markdown",
   "id": "a357e895",
   "metadata": {
    "id": "a357e895"
   },
   "source": [
    "When calculating the distance in the previous example, squareroots and powers were done using the `**` operator. The math module can also be used for such calculations - see below for how to use the math module. You can use whichever you feel comfortable with!"
   ]
  },
  {
   "cell_type": "code",
   "execution_count": null,
   "id": "162ddc8d",
   "metadata": {
    "id": "162ddc8d"
   },
   "outputs": [],
   "source": [
    "import math\n",
    "\n",
    "# Define a numeric variable below. Feel free to change it and see how the output responds!\n",
    "my_num = 25\n",
    "\n",
    "# Calculate the square root of the number\n",
    "sqrt_num = math.sqrt(my_num)\n",
    "\n",
    "# Calculate the nth power of the number. Feel free to change n!\n",
    "n = 4\n",
    "pow_num = math.pow(my_num, n)\n",
    "\n",
    "# Display output.\n",
    "print('The square root of', my_num, 'is', sqrt_num)\n",
    "print(my_num, 'to the power of', n, 'is', pow_num)\n"
   ]
  },
  {
   "cell_type": "markdown",
   "id": "c0688a6a",
   "metadata": {
    "id": "c0688a6a"
   },
   "source": [
    "[Go back to contents](#Contents)"
   ]
  },
  {
   "cell_type": "markdown",
   "id": "a629e5ed",
   "metadata": {
    "id": "a629e5ed"
   },
   "source": [
    "## Conditional Statements"
   ]
  },
  {
   "cell_type": "code",
   "execution_count": null,
   "id": "22f02dab",
   "metadata": {
    "id": "22f02dab"
   },
   "outputs": [],
   "source": [
    "# Notice how the result change when the day is changed\n",
    "day = \"Monday\"     # Change this to \"Tuesday\", \"Friday\" etc\n",
    "first_lab = True  # Can be either True or False\n",
    "\n",
    "if day==\"Monday\" and first_lab:\n",
    "    print(\"Today is \" + day + \" and the first lab!\")\n",
    "elif day==\"Monday\" and not first_lab:\n",
    "    print(\"Today is \" + day + \" but not first lab!\")\n",
    "else:\n",
    "    print(\"Today is not \" + day)"
   ]
  },
  {
   "cell_type": "code",
   "execution_count": null,
   "id": "bb19b9a2",
   "metadata": {
    "id": "bb19b9a2"
   },
   "outputs": [],
   "source": [
    "# Line 6 is always executed but Line 4,5 are run only if num is \"even\"\n",
    "num = 4  # Change this\n",
    "if(num%2==0):\n",
    "    print(str(num) + \" is even\")\n",
    "    print(str(num) + \" is divisible by 2\")\n",
    "print(\"This statement is always executed\")\n"
   ]
  },
  {
   "cell_type": "code",
   "execution_count": null,
   "id": "212132b1",
   "metadata": {
    "id": "212132b1"
   },
   "outputs": [],
   "source": [
    "# Here you can check that Python is case sensitive\n",
    "name = \"Inspiration4\"  # Change this to \"inspiration4\" / \"Columbus\" etc\n",
    "missions = [\"Starlink 2-1\",\"Inspiration4\",\"Dragon CRS‑23\"]\n",
    "\n",
    "if name in missions:\n",
    "    print(name + \" belongs to SpaceX\")\n",
    "else:\n",
    "    print(name + \" does not belongs to SpaceX\")\n",
    "\n"
   ]
  },
  {
   "cell_type": "code",
   "execution_count": null,
   "id": "154ae2b5",
   "metadata": {
    "id": "154ae2b5"
   },
   "outputs": [],
   "source": [
    "# play around in this cell\n"
   ]
  },
  {
   "cell_type": "markdown",
   "id": "39154aa3",
   "metadata": {
    "id": "39154aa3"
   },
   "source": [
    "### Exercise - 1"
   ]
  },
  {
   "cell_type": "code",
   "execution_count": 2,
   "id": "fb360c8a",
   "metadata": {
    "id": "fb360c8a"
   },
   "outputs": [
    {
     "name": "stdout",
     "output_type": "stream",
     "text": [
      "Excellent, you aced your way !\n"
     ]
    }
   ],
   "source": [
    "# Change the variables in section-1 so that all \"if\" statements (5 of them) in section-2 evaluates as True.\n",
    "# Ignore section-3\n",
    "\n",
    "# section-1\n",
    "num1 = 30\n",
    "num2 = 1\n",
    "first_list = [1,2,3,7,8]\n",
    "second_list = []\n",
    "\n",
    "# section-2  (DO NOT CHANGE ANYTHING BELOW THIS LINE)\n",
    "check = 0\n",
    "if num1 > 23:\n",
    "    check+=1\n",
    "    \n",
    "if num1+num2 <=32 and first_list:\n",
    "    check+=1\n",
    "    \n",
    "if not second_list:\n",
    "    check+=1\n",
    "    \n",
    "if len(first_list) + len(second_list)==5:\n",
    "    check+=1\n",
    "\n",
    "if first_list[3]==7:\n",
    "    check+=1\n",
    "    \n",
    "# section-3 (IGNORE THE IF STATEMENT BELOW, IT CHECKS FOR CORRECTNESS)\n",
    "if check==5:\n",
    "    print(\"Excellent, you aced your way !\")\n",
    "elif check <3:\n",
    "    print(\"Please try again !\")\n",
    "else:\n",
    "    print(\"You are close, very !\")"
   ]
  },
  {
   "cell_type": "markdown",
   "id": "9dbecde5",
   "metadata": {
    "id": "9dbecde5"
   },
   "source": [
    "[Go back to contents](#Contents)"
   ]
  },
  {
   "cell_type": "markdown",
   "id": "1e195168",
   "metadata": {
    "id": "1e195168"
   },
   "source": [
    "## Loops"
   ]
  },
  {
   "cell_type": "markdown",
   "id": "074c9022",
   "metadata": {
    "id": "074c9022"
   },
   "source": [
    "`for`"
   ]
  },
  {
   "cell_type": "code",
   "execution_count": null,
   "id": "f0b94dc3",
   "metadata": {
    "id": "f0b94dc3"
   },
   "outputs": [],
   "source": [
    "# Approach 1\n",
    "groceries = [\"eggs\", \"bread\", \"veggies\"]\n",
    "for item in groceries:\n",
    "    print(\"I got some \" + item + \" on Sunday.\")"
   ]
  },
  {
   "cell_type": "code",
   "execution_count": null,
   "id": "c1ed9351",
   "metadata": {
    "id": "c1ed9351"
   },
   "outputs": [],
   "source": [
    "# Approach 2\n",
    "groceries = [\"eggs\", \"bread\", \"veggies\"]\n",
    "for i in range(len(groceries)):\n",
    "    print(\"I got some \" + groceries[i] + \" on Sunday.\")"
   ]
  },
  {
   "cell_type": "code",
   "execution_count": null,
   "id": "c491040b",
   "metadata": {
    "id": "c491040b"
   },
   "outputs": [],
   "source": [
    "# Numerical for-loop\n",
    "\n",
    "for i in range(4):\n",
    "    print(str(i) + \" squared is \" + str(i **2))"
   ]
  },
  {
   "cell_type": "code",
   "execution_count": null,
   "id": "ef890036",
   "metadata": {
    "id": "ef890036"
   },
   "outputs": [],
   "source": [
    "# while-loop\n",
    "# Notice changing n alters the number of times loop is run\n",
    "n = 5 # change this\n",
    "while n > 0:\n",
    "    print(str(n) + \" is greater than 0\")\n",
    "    n = n - 1"
   ]
  },
  {
   "cell_type": "code",
   "execution_count": null,
   "id": "dcf920ee",
   "metadata": {
    "id": "dcf920ee"
   },
   "outputs": [],
   "source": [
    "# break statement\n",
    "n = 5\n",
    "while True: # without a break, this loop runs FOREVER\n",
    "    #if n <= 2:\n",
    "    #    break  # see what heppens if you delete this line\n",
    "    print(str(n) + \" is less than 5 and greater than 2\")\n",
    "    n = n - 1\n"
   ]
  },
  {
   "cell_type": "code",
   "execution_count": null,
   "id": "78ed9d8e",
   "metadata": {
    "id": "78ed9d8e"
   },
   "outputs": [],
   "source": [
    "# play around in this cell\n"
   ]
  },
  {
   "cell_type": "markdown",
   "id": "19203608",
   "metadata": {
    "id": "19203608"
   },
   "source": [
    "### Exercise-2"
   ]
  },
  {
   "cell_type": "code",
   "execution_count": 5,
   "id": "db88092b",
   "metadata": {
    "id": "db88092b"
   },
   "outputs": [
    {
     "name": "stdout",
     "output_type": "stream",
     "text": [
      "[953, 959]\n"
     ]
    }
   ],
   "source": [
    "# Iterate through my_list and print ONLY the odd numbers which are greater than 950.\n",
    "\n",
    "# DO NOT CHANGE THIS BLOCK\n",
    "numbers = [\n",
    "    651, 462, 984, 621, 360, 236, 105, 942, 941, 386, 462, 47, 418, 907, 344, 236, 375, 823, 566, 597, 978, 328, 615, 953, 345,\n",
    "    399, 162, 758, 219, 918, 237, 412, 566, 826, 248, 866, 950, 626, 949, 617, 865, 575, 219, 390, 984, 592, 236, 105, 942, 941,\n",
    "    296, 462, 97, 918, 907, 344, 236, 375, 823, 566, 597, 978, 328, 615, 959, 345, 399, 162, 158, 119, 918, 237, 412, 566, 826, 248, 866, 950, 626, 949, 687, 217,\n",
    "    815, 67, 194, 58, 512, 24, 892, 894, 767, 553, 81, 379, 843, 831, 445, 742, 717, 958, 669, 842, 451, 688, 753, 854, 685, 93, 857, 440, 380, 126, 721, 328, 753, 470,\n",
    "    743, 527\n",
    "]\n",
    "\n",
    "\n",
    "# Insert your code below\n",
    "filtered = list(filter(lambda n : n > 950 and n%2==1, numbers))\n",
    "print(filtered)\n",
    "\n",
    "\n"
   ]
  },
  {
   "cell_type": "markdown",
   "id": "50250308",
   "metadata": {
    "id": "50250308"
   },
   "source": [
    "[Go back to contents](#Contents)"
   ]
  },
  {
   "cell_type": "markdown",
   "id": "6cabb0af",
   "metadata": {
    "id": "6cabb0af"
   },
   "source": [
    "## Functions"
   ]
  },
  {
   "cell_type": "code",
   "execution_count": null,
   "id": "51773ff5",
   "metadata": {
    "id": "51773ff5"
   },
   "outputs": [],
   "source": [
    "# (Example #1) Function with a return value\n",
    "def square(n):\n",
    "    '''This function returns the square of the input'''\n",
    "    return(n**2)\n",
    "\n",
    "print(square(5))\n",
    "\n",
    "# Uncomment the line below to see the description of square()\n",
    "# help(square)"
   ]
  },
  {
   "cell_type": "code",
   "execution_count": null,
   "id": "f6c25462",
   "metadata": {
    "id": "f6c25462"
   },
   "outputs": [],
   "source": [
    "# (Example #2) Function without a return value\n",
    "def print_var(nums):\n",
    "    '''This function prints the contents of a list'''\n",
    "    for item in nums:\n",
    "        print(item)\n",
    "\n",
    "my_list = [13, 17, 9]\n",
    "print_var(my_list)"
   ]
  },
  {
   "cell_type": "code",
   "execution_count": null,
   "id": "9f2744ac",
   "metadata": {
    "id": "9f2744ac"
   },
   "outputs": [],
   "source": [
    "# play around in this cell\n"
   ]
  },
  {
   "cell_type": "markdown",
   "id": "20188f38",
   "metadata": {
    "id": "20188f38"
   },
   "source": [
    "### Exercise-3"
   ]
  },
  {
   "cell_type": "code",
   "execution_count": 7,
   "id": "47aa559e",
   "metadata": {
    "id": "47aa559e"
   },
   "outputs": [
    {
     "name": "stdout",
     "output_type": "stream",
     "text": [
      "Excellent, all set !\n"
     ]
    }
   ],
   "source": [
    "import math\n",
    "# Complete the function check_prime() so that it returns True if the input is prime\n",
    "# For example : check_prime(5)= True,   check_prime(6)=False\n",
    "# You can safely assume the input is not equal to 1. (It's controversial)\n",
    "\n",
    "def check_prime(n):\n",
    "    '''This function checks if the input is a prime number'''\n",
    "    # insert your code below\n",
    "    max_to_check = math.sqrt(n)\n",
    "    for i in range(2, math.floor(max_to_check) + 1):\n",
    "        if (n/i).is_integer():\n",
    "            return False\n",
    "    return True\n",
    "    \n",
    "    \n",
    "    \n",
    "    \n",
    "\n",
    "    \n",
    "# DO NOT CHANGE ANYTHING BELOW THIS LINE\n",
    "result1 = check_prime(63)\n",
    "result2 = check_prime(47)\n",
    "if not result1 and result2:\n",
    "    print(\"Excellent, all set !\")\n",
    "else:\n",
    "    print(\"Please try again !\")"
   ]
  },
  {
   "cell_type": "markdown",
   "id": "b46bbc86",
   "metadata": {
    "id": "b46bbc86"
   },
   "source": [
    "[Go back to contents](#Contents)"
   ]
  },
  {
   "cell_type": "markdown",
   "id": "XpnocJbaujeC",
   "metadata": {
    "id": "XpnocJbaujeC"
   },
   "source": [
    "## NumPy"
   ]
  },
  {
   "cell_type": "markdown",
   "id": "VPfKqNsMvgkU",
   "metadata": {
    "id": "VPfKqNsMvgkU"
   },
   "source": [
    "First we need to import NumPy"
   ]
  },
  {
   "cell_type": "code",
   "execution_count": null,
   "id": "3URA5w3uupGd",
   "metadata": {
    "id": "3URA5w3uupGd"
   },
   "outputs": [],
   "source": [
    "import numpy as np"
   ]
  },
  {
   "cell_type": "markdown",
   "id": "NUx0FXw5uvfq",
   "metadata": {
    "id": "NUx0FXw5uvfq"
   },
   "source": [
    "Let's define our first ndarray object and check some of its properties\n"
   ]
  },
  {
   "cell_type": "code",
   "execution_count": null,
   "id": "_CwK7fiOu1_a",
   "metadata": {
    "id": "_CwK7fiOu1_a"
   },
   "outputs": [],
   "source": [
    "a = np.array([[1, 2, 3], [4, 5, 6]])\n",
    "\n",
    "print(\"The dimension of the array is: \", a.ndim, '\\n')\n",
    "print(\"The total number of elements in the array are: \", a.size, '\\n')\n",
    "print(\"The shape of the array is: \", a.shape)"
   ]
  },
  {
   "cell_type": "markdown",
   "id": "R7qrfFUau6X8",
   "metadata": {
    "id": "R7qrfFUau6X8"
   },
   "source": [
    "Now let's take a look at some basic NumPy functions"
   ]
  },
  {
   "cell_type": "code",
   "execution_count": null,
   "id": "mUBwviuCvASM",
   "metadata": {
    "id": "mUBwviuCvASM"
   },
   "outputs": [],
   "source": [
    "a = np.array([3, 2, 1, 4])\n",
    "\n",
    "print(\"The sum of the elements in a is: \", np.sum(a), '\\n')\n",
    "print(\"The minimum of a is: \", np.min(a), '\\n')\n",
    "print(\"If we sort a we get: \", np.sort(a), '\\n')\n",
    "print(\"We can also change the shape of a: \", np.reshape(a, (2, 2)), '\\n')\n",
    "\n",
    "b = np.array([5, 8, 7, 6])\n",
    "\n",
    "print(\"We can merge it with another array like this: \", np.hstack((a, b)), '\\n')\n",
    "print(\"Or like this: \", np.vstack((a, b)))"
   ]
  },
  {
   "cell_type": "markdown",
   "id": "vXJmaCxOvijy",
   "metadata": {
    "id": "vXJmaCxOvijy"
   },
   "source": [
    "[Go back to contents](#Contents)"
   ]
  }
 ],
 "metadata": {
  "colab": {
   "collapsed_sections": [
    "93979a12",
    "fc311bce",
    "a629e5ed",
    "1e195168"
   ],
   "name": "lab1.ipynb",
   "provenance": []
  },
  "kernelspec": {
   "display_name": "Python 3 (ipykernel)",
   "language": "python",
   "name": "python3"
  },
  "language_info": {
   "codemirror_mode": {
    "name": "ipython",
    "version": 3
   },
   "file_extension": ".py",
   "mimetype": "text/x-python",
   "name": "python",
   "nbconvert_exporter": "python",
   "pygments_lexer": "ipython3",
   "version": "3.11.4"
  }
 },
 "nbformat": 4,
 "nbformat_minor": 5
}
