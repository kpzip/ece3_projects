{
 "cells": [
  {
   "cell_type": "markdown",
   "metadata": {
    "id": "qiEY2KX6P9-D"
   },
   "source": [
    "# Lab 4\n",
    "### Due by 11:59pm, Sunday, November 3rd.\n",
    "#### Submission: Please replace firstname, lastname and permid in the file name with yours before submitting on Canvas.\n",
    "### Instructions\n",
    "Please follow the instructions below on the format of the answers. As we are using an autograder, lack of compliance to these conventions might result in a loss of grade. Contact the TAs or the instructor for assistance if needed.\n",
    "\n",
    "---\n",
    "For Multiple Choice Questions, your answers should be formatted as follows:\n",
    "```python\n",
    "def ans_q1():\n",
    "  return 'C' # if the C is the selected option\n",
    "  # Please only add the option and nothing more.\n",
    "```\n",
    "\n",
    "## Grading\n",
    "Multiple Choice Questions: 10% each. Programming Questions: 25% each."
   ]
  },
  {
   "cell_type": "markdown",
   "metadata": {
    "id": "sLjWJGK-b9y2"
   },
   "source": [
    "Lab Section ID: (Enter your lab section below)"
   ]
  },
  {
   "cell_type": "markdown",
   "metadata": {
    "id": "JDP8bfcBcMBE"
   },
   "source": [
    "thursday 7:00PM"
   ]
  },
  {
   "cell_type": "markdown",
   "metadata": {
    "id": "TJho0p-BgT6I"
   },
   "source": [
    "### Multiple Choice Questions (MCQs):\n",
    "\n",
    "Q1. What is the main purpose of a constructor (`__init__`) in Python\n",
    "   \n",
    "   A. To print a message when the object is created.\n",
    "   \n",
    "   \n",
    "   B. To initialize the attributes of the object.\n",
    "   \n",
    "   C. To call other methods inside the class.\n",
    "   \n",
    "   D. To destroy an object when it’s no longer needed.\n",
    "\n",
    "\n",
    "\n",
    "\n",
    "\n"
   ]
  },
  {
   "cell_type": "code",
   "execution_count": null,
   "metadata": {
    "id": "LA4ZJADOic95"
   },
   "outputs": [],
   "source": [
    "def ans_q1():\n",
    "  return 'B'"
   ]
  },
  {
   "cell_type": "markdown",
   "metadata": {
    "id": "yfsit_HYicbf"
   },
   "source": [
    "Q2. Which of the following features existed **BEFORE** the introduction of Object-Oriented Programming (OOP)?\n",
    "  \n",
    "  A. Inheritance\n",
    "   \n",
    "  B. Polymorphism\n",
    "   \n",
    "  C. Recursion\n",
    "   \n",
    "  D. Encapsulation\n"
   ]
  },
  {
   "cell_type": "code",
   "execution_count": null,
   "metadata": {
    "id": "V8GyVR2riRi6"
   },
   "outputs": [],
   "source": [
    "def ans_q2():\n",
    "  return 'C'"
   ]
  },
  {
   "cell_type": "markdown",
   "metadata": {
    "id": "eUsmB_zjiM2_"
   },
   "source": [
    "Q3. Which of the following is not an assert methods supported by Unittest framework?\n",
    "\n",
    "A. assertEqual().\n",
    "\n",
    "B. assertEmpty().\n",
    "\n",
    "C. assertIn().\n",
    "\n",
    "D. assertGreater()"
   ]
  },
  {
   "cell_type": "code",
   "execution_count": null,
   "metadata": {
    "id": "-EmusubBiNUs"
   },
   "outputs": [],
   "source": [
    "def ans_q3()\n",
    "  return 'B'"
   ]
  },
  {
   "cell_type": "markdown",
   "metadata": {
    "id": "4Syp3ZEcBmqm"
   },
   "source": [
    "Q4. What is the purpose of the \n",
    "```python\n",
    "\n",
    "__str__(self):\n",
    "```\n",
    "method in a Python class?\n",
    "\n",
    "A. It is used to return an informal string representation of an object which can be used by print() or str().\n",
    "\n",
    "B. It calculates and returns the string length of an object.\n",
    "\n",
    "C. It is used to store multiple string values within an object.\n",
    "\n",
    "D. It performs string concatenation automatically within an object."
   ]
  },
  {
   "cell_type": "code",
   "execution_count": null,
   "metadata": {
    "id": "QIydHN52CC3V"
   },
   "outputs": [],
   "source": [
    "def ans_q4():\n",
    "  return 'A'"
   ]
  },
  {
   "cell_type": "markdown",
   "metadata": {
    "id": "coVhfPvPPYPm"
   },
   "source": [
    "Q5. What happens if a method is defined with the same name in both a parent class and a child class in Python?\n",
    "\n",
    "A. The parent class method is always called.\n",
    "\n",
    "B. The child class method overrides the parent class method.\n",
    "\n",
    "C. An error is raised due to name conflict.\n",
    "\n",
    "D. The parent class method and child class method are executed in sequence."
   ]
  },
  {
   "cell_type": "code",
   "execution_count": null,
   "metadata": {
    "id": "v3eZCq3LPbbO"
   },
   "outputs": [],
   "source": [
    "def ans_q5():\n",
    "  return 'B'"
   ]
  },
  {
   "cell_type": "markdown",
   "metadata": {
    "id": "maAuZp9H53r7"
   },
   "source": [
    "# Programming Questions:"
   ]
  },
  {
   "cell_type": "markdown",
   "metadata": {
    "id": "__5qAkQf57t1"
   },
   "source": [
    "INSTRUCTIONS: Write function, class or method definition(s) as described. If a template is provided, insert code or make changes only where specified. **Do not modify the names of the functions, methods or classes provided in the question or the template.**"
   ]
  },
  {
   "cell_type": "markdown",
   "metadata": {
    "id": "AYxMntIGgVRu"
   },
   "source": [
    "Q6. Create a Python class called `Calculator` with the following methods:\n",
    "   - `add(a, b)`: Returns the sum of two numbers.\n",
    "   - `subtract(a, b)`: Returns the difference between two numbers.\n",
    "   - `multiply(a, b)`: Returns the product of two numbers.\n",
    "   - `divide(a, b)`: Returns the result of dividing `a` by `b`. If `b` is 0, return `\"Cannot divide by zero\"`.\n",
    "\n",
    "Then, write a Python unit test using the `unittest` module to test the following scenarios:\n",
    "   1. Test that `add(3, 5)` returns `8`.\n",
    "   2. Test that `subtract(10, 4)` returns `6`.\n",
    "   3. Test that `multiply(6, 7)` returns `42`.\n",
    "   4. Test that `divide(15, 3)` returns `5`.\n",
    "   5. Test that `divide(8, 0)` returns `\"Cannot divide by zero\"`.\n",
    "\n",
    "   > Note: Name your test functions `test_<function>` e.g., if you are testing the `add()` function, that corresponding test function should be called `test_add()`."
   ]
  },
  {
   "cell_type": "code",
   "execution_count": 6,
   "metadata": {
    "id": "T3lYzTH0fFN-"
   },
   "outputs": [
    {
     "name": "stderr",
     "output_type": "stream",
     "text": [
      "test_add (__main__.CalculatorTest.test_add) ... ok\n",
      "test_divide (__main__.CalculatorTest.test_divide) ... ok\n",
      "test_multiply (__main__.CalculatorTest.test_multiply) ... ok\n",
      "test_subtract (__main__.CalculatorTest.test_subtract) ... ok\n",
      "\n",
      "----------------------------------------------------------------------\n",
      "Ran 4 tests in 0.002s\n",
      "\n",
      "OK\n"
     ]
    }
   ],
   "source": [
    "import unittest\n",
    "## Write your code\n",
    "# In using the Unittest module in Jupyter notebooks, you may need this:\n",
    "# if __name__ == '__main__':\n",
    "#    unittest.main(argv=[''], verbosity=2, exit=False)\n",
    "\n",
    "class Calculator:\n",
    "\n",
    "    def add(a, b):\n",
    "        return a + b\n",
    "\n",
    "    def subtract(a, b):\n",
    "        return a - b\n",
    "\n",
    "    def multiply(a, b):\n",
    "        return a * b\n",
    "\n",
    "    def divide(a, b):\n",
    "        if b == 0:\n",
    "            return \"Cannot divide by zero\"\n",
    "        return a / b\n",
    "\n",
    "class CalculatorTest(unittest.TestCase):\n",
    "    def test_add(self):\n",
    "        self.assertEqual(Calculator.add(3, 5), 8)\n",
    "        \n",
    "    def test_subtract(self):\n",
    "        self.assertEqual(Calculator.subtract(10, 4), 6)\n",
    "\n",
    "    def test_multiply(self):\n",
    "        self.assertEqual(Calculator.multiply(6, 7), 42)\n",
    "\n",
    "    def test_divide(self):\n",
    "        self.assertEqual(Calculator.divide(15, 3), 5)\n",
    "        self.assertEqual(Calculator.divide(8, 0), \"Cannot divide by zero\")\n",
    "\n",
    "if __name__ == '__main__':\n",
    "    unittest.main(argv=[''], verbosity=2, exit=False)"
   ]
  },
  {
   "cell_type": "markdown",
   "metadata": {
    "id": "FE5Hzohog1bg"
   },
   "source": [
    "\n",
    "Q7. Write class definitons for three different types of vehicles each as a subclass of **Vehicle**. Each vehicle type has a passenger capacity and a speed. They all share the common functionality of calculating travel time for a given distance.\n",
    "\n",
    "Car: Can carry 5 passengers, with a speed of 120 km/h.\n",
    "\n",
    "Bus: Can carry 50 passengers, with a speed of 80 km/h.\n",
    "\n",
    "Truck: Can carry 2000 kg of cargo, with a speed of 60 km/h.\n",
    "\n"
   ]
  },
  {
   "cell_type": "code",
   "execution_count": 11,
   "metadata": {
    "id": "Za-CrBsRhOtx"
   },
   "outputs": [],
   "source": [
    "# Base class Vehicle\n",
    "class Vehicle:\n",
    "    def __init__(self, speed):\n",
    "        self.speed = speed\n",
    "\n",
    "    def travel_time(self, distance):\n",
    "        if distance < 0:\n",
    "            raise ValueError(\"Distance cannot be negative\")\n",
    "        return distance / self.speed\n",
    "\n",
    "# Subclass Car\n",
    "class Car(Vehicle):\n",
    "   #put your code here\n",
    "    def __init__(self):\n",
    "        super().__init__(120)\n",
    "        self.capacity = \"5 passengers\"\n",
    "\n",
    "# Subclass Bus\n",
    "class Bus(Vehicle):\n",
    "  #put your code here\n",
    "    def __init__(self):\n",
    "        super().__init__(80)\n",
    "        self.capacity = \"50 passengers\"\n",
    "\n",
    "# Subclass Truck\n",
    "class Truck(Vehicle):\n",
    "  #put your code here\n",
    "    def __init__(self):\n",
    "        super().__init__(60)\n",
    "        self.capacity = \"2000 kg of cargo\"\n",
    "\n",
    "\n",
    "# Polymorphic function to get travel information\n",
    "def get_travel_info(vehicle, distance):\n",
    "  #put your code here\n",
    "    print(f\"{vehicle.__class__.__name__} can carry {vehicle.capacity}.\")\n",
    "    try:\n",
    "        print(f\"Travel time for {distance} km is {vehicle.travel_time(distance):.2f} hours.\")\n",
    "    except ValueError:\n",
    "        print(\"Error: Distance cannot be negative\")"
   ]
  },
  {
   "cell_type": "code",
   "execution_count": 12,
   "metadata": {
    "id": "r2jvaJ5-a_e_"
   },
   "outputs": [
    {
     "name": "stdout",
     "output_type": "stream",
     "text": [
      "Vehicle type: Car\n",
      "Car can carry 5 passengers.\n",
      "Travel time for 100 km is 0.83 hours.\n",
      "\n",
      "Vehicle type: Bus\n",
      "Bus can carry 50 passengers.\n",
      "Travel time for 100 km is 1.25 hours.\n",
      "\n",
      "Vehicle type: Truck\n",
      "Truck can carry 2000 kg of cargo.\n",
      "Travel time for 100 km is 1.67 hours.\n",
      "\n",
      "Testing with a negative distance:\n",
      "Car can carry 5 passengers.\n",
      "Error: Distance cannot be negative\n"
     ]
    }
   ],
   "source": [
    "# Testing the system\n",
    "if __name__ == \"__main__\":\n",
    "    # Creating objects of each type\n",
    "    car = Car()\n",
    "    bus = Bus()\n",
    "    truck = Truck()\n",
    "\n",
    "    # Demonstrating polymorphism\n",
    "    vehicles = [car, bus, truck]\n",
    "\n",
    "    for v in vehicles:\n",
    "        print(f\"Vehicle type: {v.__class__.__name__}\")\n",
    "        get_travel_info(v, 100)\n",
    "        print()\n",
    "\n",
    "    # Testing error handling with a negative distance\n",
    "    print(\"Testing with a negative distance:\")\n",
    "    get_travel_info(car, -100)"
   ]
  },
  {
   "cell_type": "code",
   "execution_count": null,
   "metadata": {
    "id": "lmBpHZosbAqA"
   },
   "outputs": [],
   "source": [
    "#Expected_Output\n",
    "Vehicle type: Car\n",
    "Car can carry 5 passengers.\n",
    "Travel time for 100 km is 0.83 hours.\n",
    "\n",
    "Vehicle type: Bus\n",
    "Bus can carry 50 passengers.\n",
    "Travel time for 100 km is 1.25 hours.\n",
    "\n",
    "Vehicle type: Truck\n",
    "Truck can carry 2000 kg of cargo.\n",
    "Travel time for 100 km is 1.67 hours.\n",
    "\n",
    "Testing with a negative distance:\n",
    "Car can carry 5 passengers.\n",
    "Error: Distance cannot be negative"
   ]
  },
  {
   "cell_type": "code",
   "execution_count": null,
   "metadata": {
    "id": "MsBpkmXOft1v"
   },
   "outputs": [],
   "source": [
    "# Write your code here"
   ]
  }
 ],
 "metadata": {
  "colab": {
   "provenance": [
    {
     "file_id": "13uK-5WlmMECJw40X1D9TyippE3kktuCm",
     "timestamp": 1729228000865
    },
    {
     "file_id": "1UiH1JAdtAx71JoEaMD20BAgBkluPUTZg",
     "timestamp": 1729225300565
    }
   ]
  },
  "kernelspec": {
   "display_name": "Python 3 (ipykernel)",
   "language": "python",
   "name": "python3"
  },
  "language_info": {
   "codemirror_mode": {
    "name": "ipython",
    "version": 3
   },
   "file_extension": ".py",
   "mimetype": "text/x-python",
   "name": "python",
   "nbconvert_exporter": "python",
   "pygments_lexer": "ipython3",
   "version": "3.11.4"
  }
 },
 "nbformat": 4,
 "nbformat_minor": 4
}
