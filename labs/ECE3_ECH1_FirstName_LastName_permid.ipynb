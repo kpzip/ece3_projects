{
 "cells": [
  {
   "cell_type": "markdown",
   "metadata": {
    "id": "XJcXzC1IYiDX"
   },
   "source": [
    "# ECE 3 : Extra Credit Homework 1: k-NN Regression"
   ]
  },
  {
   "cell_type": "markdown",
   "metadata": {
    "id": "TUU2mXLwYe29"
   },
   "source": [
    "## Instructions\n",
    "\n",
    "- Rename this jupyter notebook by adding your name: e.g. `ECE3_ECH1_firstname_lastname_permid.ipynb`.\n",
    "- Provide your coding responses by directly editing your notebook.\n",
    "- Make sure that the coding portions run without errors.\n",
    "- You can also upload this file to Google Colab and edit it there instead of using Jupyter Notebook locally. Doing this may avoid some issues with importing libraries.\n",
    "- IMPORTANT: You also need to upload a video recording of yourself explaining how your Python code each step works. You can use zoom recording or explain on a white board or screen capture or record with your phone while showing your code your the laptop. The video should be between 5 and 15 minutes. If you encounter a problem uploading your video to Canvas due to file size, upload it to a shared storage platform and add the URL to this notebook. Make sure to share the uploaded file(s) with the instructor: yaslandogan@ucsb.edu."
   ]
  },
  {
   "cell_type": "markdown",
   "metadata": {
    "id": "L6_BURW6j3xn"
   },
   "source": [
    "## Problem: Regression using the k-NN algorithm\n",
    "\n"
   ]
  },
  {
   "cell_type": "markdown",
   "metadata": {
    "id": "Hhj4lhRum32i"
   },
   "source": [
    "For this exercise we will use the \"Diabetes\" dataset from the scikit-learn package.\n",
    "\n",
    "The following chunk of code loads the dataset and prints a full description of it. Run it and carefully go through the description.\n"
   ]
  },
  {
   "cell_type": "code",
   "execution_count": null,
   "metadata": {
    "colab": {
     "base_uri": "https://localhost:8080/"
    },
    "id": "Hge0HWz8j3QT",
    "outputId": "6cf36fb8-bf9c-490b-b443-8ac98b3870ca"
   },
   "outputs": [
    {
     "name": "stdout",
     "output_type": "stream",
     "text": [
      ".. _diabetes_dataset:\n",
      "\n",
      "Diabetes dataset\n",
      "----------------\n",
      "\n",
      "Ten baseline variables, age, sex, body mass index, average blood\n",
      "pressure, and six blood serum measurements were obtained for each of n =\n",
      "442 diabetes patients, as well as the response of interest, a\n",
      "quantitative measure of disease progression one year after baseline.\n",
      "\n",
      "**Data Set Characteristics:**\n",
      "\n",
      "  :Number of Instances: 442\n",
      "\n",
      "  :Number of Attributes: First 10 columns are numeric predictive values\n",
      "\n",
      "  :Target: Column 11 is a quantitative measure of disease progression one year after baseline\n",
      "\n",
      "  :Attribute Information:\n",
      "      - Age\n",
      "      - Sex\n",
      "      - Body mass index\n",
      "      - Average blood pressure\n",
      "      - S1\n",
      "      - S2\n",
      "      - S3\n",
      "      - S4\n",
      "      - S5\n",
      "      - S6\n",
      "\n",
      "Note: Each of these 10 feature variables have been mean centered and scaled by the standard deviation times `n_samples` (i.e. the sum of squares of each column totals 1).\n",
      "\n",
      "Source URL:\n",
      "https://www4.stat.ncsu.edu/~boos/var.select/diabetes.html\n",
      "\n",
      "For more information see:\n",
      "Bradley Efron, Trevor Hastie, Iain Johnstone and Robert Tibshirani (2004) \"Least Angle Regression,\" Annals of Statistics (with discussion), 407-499.\n",
      "(https://web.stanford.edu/~hastie/Papers/LARS/LeastAngle_2002.pdf)\n"
     ]
    }
   ],
   "source": [
    "import numpy as np\n",
    "from sklearn.datasets import load_diabetes\n",
    "\n",
    "dataset = load_diabetes()\n",
    "print(dataset.DESCR)"
   ]
  },
  {
   "cell_type": "markdown",
   "metadata": {
    "id": "DTi1gUKbpGpb"
   },
   "source": [
    "We see that the dataset consists of 10 attributes, including demographic information (such as age and sex) and various health measurements (such as BMI and blood pressure) for 442 diabetes patients. It also includes a response variable for each one of the patients, which is a measure of the progression of their disease. \n",
    "\n",
    "The attributes (a.k.a. the features or the data or the samples or the inputs) and the response variable (a.k.a. the target or the output) are given to us in the form of NumPy arrays. Let's assign them to variables X and y respectively and inspect their shape. Try to think of what their shape should be before running the following block of code."
   ]
  },
  {
   "cell_type": "code",
   "execution_count": null,
   "metadata": {
    "colab": {
     "base_uri": "https://localhost:8080/"
    },
    "id": "P289dc4slst8",
    "outputId": "d38066c4-f08c-4432-e1ee-6e95052e02bd"
   },
   "outputs": [
    {
     "name": "stdout",
     "output_type": "stream",
     "text": [
      "The attributes are inlcuded in a matrix of shape: (442, 10)\n",
      "The response variables are included in a vector of length: (442,)\n"
     ]
    }
   ],
   "source": [
    "X, y = dataset.data, dataset.target\n",
    "\n",
    "print(\"The attributes are inlcuded in a matrix of shape:\", X.shape)\n",
    "print(\"The response variables are included in a vector of length:\", y.shape)"
   ]
  },
  {
   "cell_type": "markdown",
   "metadata": {
    "id": "_lPHu5EVs7SO"
   },
   "source": [
    "We see that both the data matrix and the target vector have 442 rows, that is because we have 442 patients, with one row of data corresponding to each one of them. The data matrix has 10 columns, because for each patient we collect 10 demographic and health measurements. The target array is just a vector (i.e. it has only 1 column) as for each patient we only have one response measurement."
   ]
  },
  {
   "cell_type": "markdown",
   "metadata": {
    "id": "jI3qrnHx_F4B"
   },
   "source": [
    "Now lets take a closer look at the target vector:"
   ]
  },
  {
   "cell_type": "code",
   "execution_count": null,
   "metadata": {
    "colab": {
     "base_uri": "https://localhost:8080/"
    },
    "id": "vac0BjYJs6qQ",
    "outputId": "06ac6794-6087-4b70-a23b-7de9be91d26a"
   },
   "outputs": [
    {
     "name": "stdout",
     "output_type": "stream",
     "text": [
      "The data type of the target is: float64\n",
      "Target values range from 25.0 to 346.0\n"
     ]
    }
   ],
   "source": [
    "print(\"The data type of the target is:\", y.dtype)\n",
    "print(\"Target values range from\", np.min(y), \"to\", np.max(y))"
   ]
  },
  {
   "cell_type": "markdown",
   "metadata": {
    "id": "EJvA5O0VwUQ2"
   },
   "source": [
    "We see that the target here is a floating point number which can take a broad range of values. The exact value of the target is different for every patient. It is obvious that there is a connection between the health measurements and the demographic group of a person and the progression of that persons disease. More formally we can think that there is some function $f$ that maps the attributes to the target:\n",
    "\n",
    "$$\\text{disease progression} = f(age, sex, ..., s_6)$$\n",
    "\n",
    "However, we don't know what this function $f$ looks like! It could be that:\n",
    "\n",
    "$$f(age, sex, ..., s6) = \\text{age}^2 - 2*\\text{bmi}^3 + ... + \\frac{1}{s_6}$$\n",
    "\n",
    "or that:\n",
    "\n",
    "$$f(age, sex, ..., s6) = \\text{age} + 2*log(\\text{bmi}) + ... - {s_5}$$\n",
    "\n",
    "or really anything else! \n",
    "\n",
    "If we knew what the function was then we could help doctors give better advise to their patients (e.g. to lower their bmi or eat some food that's going to increase their $s_3$ measurement). \n",
    "\n",
    "Our goal in this exercise is to use the data that are available to us and try to deduce what is the relationship between the attributes and the target. Equivalently, you can also say that our goal is to estimate what the response variable would be for any set of values the attributes can take. This task is called **regression**!\n",
    "\n",
    "If our target was not a continuous variable but a discrete one, then our goal would be to use the data to decide to which one of a number of classes a sample belongs. This task is called **classification** and it is discussed more in depth on Lab 4, where we see that we can use similar algorithms for it."
   ]
  },
  {
   "cell_type": "markdown",
   "metadata": {
    "id": "bqlS96muFZJa"
   },
   "source": [
    "### Training and Test Sets\n",
    "\n",
    "To perform regression we will follow the following strategy. We will split our data in two groups, the training set and the test set. We will use the training set to deduce an approximation $f^\\prime$ of the real function $f$ and we will use the test set to check how close is our estimate of the response value when we use $f'$ to the observed response value. Typically, we assign most of our data to the training set and keep only about $20-30\\%$ of them for the test set."
   ]
  },
  {
   "cell_type": "code",
   "execution_count": null,
   "metadata": {
    "id": "XaU28k95KAvh"
   },
   "outputs": [],
   "source": [
    "from sklearn.model_selection import train_test_split\n",
    "\n",
    "X_train, X_test, y_train, y_test = train_test_split(X, y, test_size=0.2, random_state=0)"
   ]
  },
  {
   "cell_type": "markdown",
   "metadata": {
    "id": "jAeATx-BINjC"
   },
   "source": [
    "### The k-NN algorithm for regression\n",
    "\n",
    "A simple regression algorithm is the k Nearest Neighbors algorithm. In k-NN regression the response of a datapoint is estimated as the average of the values of its k nearest neighbors.\n",
    "\n",
    "*   \"Nearest\" is defined with respect to some distance metric, usually that is the euclidean distance, however other distances are more appropriate for some applications\n",
    "*   k is a parameter chosen by the engineer, it is taken to be odd to avoid a situation where we can't decide because of a tie\n",
    "\n",
    "In this exercise you will implement the k-NN rule, using the euclidean distance, to estimate a response for each datapoint in the test set. Then you will compare that to the observed response to evaluate the performance of the algorithm."
   ]
  },
  {
   "cell_type": "markdown",
   "metadata": {
    "id": "Odxv61LqJM1o"
   },
   "source": [
    "#### (a) Write a function that calculates the euclidean distance between two points:"
   ]
  },
  {
   "cell_type": "code",
   "execution_count": null,
   "metadata": {
    "id": "ahnQeS2AJNc-"
   },
   "outputs": [],
   "source": [
    "# Replace \"...\" with your code\n",
    "\n",
    "def eucl_dist(a, b):\n",
    "\n",
    "    return np.sum((...) ** ...) ** (...)"
   ]
  },
  {
   "cell_type": "markdown",
   "metadata": {
    "id": "pFVqrWW5JP-4"
   },
   "source": [
    "#### (b) Write a function that receives as arguments a point and the training set, and calculates the distance of that point from all the points of the training set. The function should return a vector of length equal to the number of points in the training set. You can opt to you use the previous function that you wrote or not."
   ]
  },
  {
   "cell_type": "code",
   "execution_count": null,
   "metadata": {
    "id": "ZL0X779NJSwN"
   },
   "outputs": [],
   "source": [
    "# Replace \"...\" with your code\n",
    "\n",
    "def dist_from_training_set(a, X):\n",
    "\n",
    "    return np.sum((...) ** ..., axis=...) ** (...)\n",
    "\n",
    "# Alternatively you can write you own version this function, using a loop to\n",
    "# iteratively call the function from part (a) for each point in the training set"
   ]
  },
  {
   "cell_type": "markdown",
   "metadata": {
    "id": "jyhFJV7YMDA2"
   },
   "source": [
    "#### (c) Write a function that receives as arguments a point, the training data, the training labels and an odd positive number k and implements that k-NN regression to return an estimated value. (Hint: modify your solution to Problem 1 - Part (c))\n",
    "\n"
   ]
  },
  {
   "cell_type": "code",
   "execution_count": null,
   "metadata": {
    "id": "5Q3tefsTK5il"
   },
   "outputs": [],
   "source": [
    "# Replace \"...\" with your code\n",
    "\n",
    "def kNN(a, X, y, k):\n",
    "\n",
    "    # calculate the distances of a from all the points in X\n",
    "    distances = dist_from_training_set(a, X) \n",
    "    # find the indices of X that correspond the k closest neighbors of a\n",
    "    nn_indices = distances.argsort()[:k]\n",
    "    # find the values of the k closest neighbors of a\n",
    "    nn_values = y[...]\n",
    "\n",
    "    # return the mean of the values that you found\n",
    "    return ..."
   ]
  },
  {
   "cell_type": "markdown",
   "metadata": {
    "id": "5H0FI5vANl6n"
   },
   "source": [
    "#### (d) Run 3NN regression for the first 5 points of the test set and report the estimate response values."
   ]
  },
  {
   "cell_type": "code",
   "execution_count": null,
   "metadata": {
    "id": "1IkGv5uJNhvI"
   },
   "outputs": [],
   "source": [
    "# Replace \"...\" with your code\n",
    "\n",
    "y_pred_3NN = np.empty(5,).T\n",
    "\n",
    "for idx in range(5):\n",
    "    y_pred_3NN[idx] = ..."
   ]
  },
  {
   "cell_type": "markdown",
   "metadata": {
    "id": "q15hPhWla87G"
   },
   "source": [
    "#### (e) Use sklearn's KNeighborsRegressor class to verify your result from (b)."
   ]
  },
  {
   "cell_type": "code",
   "execution_count": null,
   "metadata": {
    "colab": {
     "base_uri": "https://localhost:8080/"
    },
    "id": "EQW0KhLZbGhw",
    "outputId": "d8e2b066-d167-4c34-a3f0-5183f06e9da0"
   },
   "outputs": [
    {
     "name": "stdout",
     "output_type": "stream",
     "text": [
      "[ True  True  True  True  True]\n"
     ]
    }
   ],
   "source": [
    "# Replace \"...\" with your code\n",
    "\n",
    "from sklearn.neighbors import KNeighborsRegressor\n",
    "\n",
    "regressor = KNeighborsRegressor(n_neighbors=...)\n",
    "regressor.fit(...)\n",
    "y_pred = regressor.predict(...)\n",
    "\n",
    "print(y_pred == y_pred_3NN)"
   ]
  },
  {
   "cell_type": "markdown",
   "metadata": {
    "id": "UvZ_ZNZnhrYi"
   },
   "source": [
    "### MSE - A regression performance metric\n",
    "\n",
    "A metric for the performance of a regression algorithm is the Mean Squared Error (MSE) which is defined as:\n",
    "\n",
    "$$MSE = \\frac{1}{n} \\sum_n (y_{pred} - y_{true})^2$$"
   ]
  },
  {
   "cell_type": "markdown",
   "metadata": {
    "id": "fUwRUoWHN6YL"
   },
   "source": [
    "#### (f) Write a function that calculates the MSE. Then run 3NN regression on the test set (all of it, not just the first 5 points) and print the MSE."
   ]
  },
  {
   "cell_type": "code",
   "execution_count": null,
   "metadata": {
    "colab": {
     "base_uri": "https://localhost:8080/"
    },
    "id": "0_z4eC3hOG6U",
    "outputId": "3c9c9956-cb2b-45d0-9853-6b5db6a951db"
   },
   "outputs": [
    {
     "name": "stdout",
     "output_type": "stream",
     "text": [
      "3970.4453860640297\n"
     ]
    }
   ],
   "source": [
    "# Replace \"...\" with your code\n",
    "\n",
    "def MSE(a, b):\n",
    "\n",
    "    return ...\n",
    "\n",
    "y_pred_3NN = regressor.predict(...)\n",
    "MSE_3NN = MSE(...)\n",
    "print(MSE_3NN)"
   ]
  },
  {
   "cell_type": "markdown",
   "metadata": {
    "id": "Id-r8WULO2MS"
   },
   "source": [
    "#### (g) Plot the MSE for the kNN algorithm on the test for different values of k up to 11. What do you observe? How do you explain this?"
   ]
  },
  {
   "cell_type": "code",
   "execution_count": null,
   "metadata": {
    "id": "hhUte_q9l4UK"
   },
   "outputs": [],
   "source": [
    "# Replace \"...\" with your code\n",
    "\n",
    "from matplotlib import pyplot as plt\n",
    "\n",
    "mse = []\n",
    "for k in range(1, 12):\n",
    "    regressor = KNeighborsRegressor(n_neighbors=...)\n",
    "    regressor.fit(...)\n",
    "    y_pred = regressor.predict(...)\n",
    "    mse.append(MSE(...))\n",
    "\n",
    "plt.plot(np.arange(1,12), mse)\n",
    "plt.xlabel('k')\n",
    "plt.ylabel('MSE')\n",
    "plt.grid()"
   ]
  }
 ],
 "metadata": {
  "colab": {
   "collapsed_sections": [],
   "name": "ECE3_HW2.ipynb",
   "provenance": []
  },
  "kernelspec": {
   "display_name": "Python 3",
   "name": "python3"
  },
  "language_info": {
   "name": "python"
  }
 },
 "nbformat": 4,
 "nbformat_minor": 0
}
