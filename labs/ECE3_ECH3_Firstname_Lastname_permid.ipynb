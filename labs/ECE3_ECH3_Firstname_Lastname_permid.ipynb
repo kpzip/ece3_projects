{
  "cells": [
    {
      "cell_type": "markdown",
      "metadata": {
        "id": "XJcXzC1IYiDX"
      },
      "source": [
        "# ECE 3 : Extra Credit Homework 3: Animations of ECE3 Topics"
      ]
    },
    {
      "cell_type": "markdown",
      "metadata": {
        "id": "TUU2mXLwYe29"
      },
      "source": [
        "## Instructions\n",
        "\n",
        "To get started, you should go through the following steps.\n",
        "- Rename this jupyter notebook by adding your name and permid: e.g. `ECE3_ECH3_firstname_lastname_permid.ipynb`.\n",
        "- Include a Python code example in your illustration. \n",
        "- Make sure that the coding portions run without errors.\n",
        "- You can also upload this file to Google Colab and edit it there instead of using Jupyter Notebook locally. Doing this may avoid some issues with importing libraries.\n",
        "- Submit this notebook and any additional files to Canvas. If you encounter a problem uploading your video to Canvas due to file size, upload it to a shared storage platform and add the URL to this notebook. Make sure to share the uploaded file(s) with the instructor: yaslandogan@ucsb.edu."
      ]
    },
    {
      "cell_type": "markdown",
      "metadata": {
        "id": "k_6HcvSUj9xb"
      },
      "source": [
        "## Problem: Animations of ECE3 Topics\n",
        "\n",
        "\n"
      ]
    },
    {
      "cell_type": "markdown",
      "metadata": {
        "id": "6NEc2O_joHez"
      },
      "source": [
        "Produce a video animation of a topic discussed or mentioned in ECE3, such as the Fourier Transform, solving linear systems of equations, simple linear regression, multiple linear regression, logistic regression, k-nearest neighbor regression, k-means clustering, ...\n",
        "\n",
        "How to produce the animation video is up to you. Include a voice narration for your video in your own voice, either as the audio channel of the video, or as an indexed audio file. The index should refer to video timestamps or section headings. Upload all files to canvas.\n",
        "\n",
        "You do not need to be seen in the video. However, either the video should have your voice narration or you should provide a separate narration audio to go with the video in your worn voice.\n"
      ]
    },
    {
      "cell_type": "code",
      "execution_count": null,
      "metadata": {
        "vscode": {
          "languageId": "plaintext"
        }
      },
      "outputs": [],
      "source": [
        "# Upload your code here: (If your code consists of multiple components, upload them as .py or .ipynb files to Canvas.)\n",
        "# ..."
      ]
    }
  ],
  "metadata": {
    "colab": {
      "collapsed_sections": [
        "TUU2mXLwYe29"
      ],
      "name": "ECE3_HW3.ipynb",
      "provenance": []
    },
    "kernelspec": {
      "display_name": "Python 3",
      "name": "python3"
    },
    "language_info": {
      "name": "python"
    }
  },
  "nbformat": 4,
  "nbformat_minor": 0
}
