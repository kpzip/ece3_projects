{
 "cells": [
  {
   "cell_type": "markdown",
   "metadata": {
    "id": "in3SznhnD8sQ"
   },
   "source": [
    "# Lab 2 Instructions\n",
    "Please read the following instructions on how to format the answers to your questions. As we are using an autograder for your labs, lack of compliance to these conventions might result in a loss of points. Contact the TAs or the instructor for help. IMPORTANT: Rename the file to reflect your first name, last name and permid (student id) before submitting on Canvas. E.g.: LAB2_ECE3_FA24_firstname_lastname_permid.ipynb --> LAB2_ECE3_FA24_john_doe_12345.ipynb.\n",
    "\n",
    "---\n",
    "For Multiple Choice Questions, your answers should be formatted as follows:\n",
    "```python\n",
    "\n",
    "def ans_q1():\n",
    "  return 'C' # if the C is the selected option\n",
    "  # Please only add the option and nothing more.\n",
    "```\n",
    "---\n",
    "For Prgramming questions, provide the answer as functions. If a template is provided, add changes only where specified. **The name of the function should be as provided in the question.**\n",
    "\n",
    "---\n",
    "When submitting this file on canvas, please name the file as follow:\n",
    "> \\<first_name>\\_\\<last_perm>\\_\\<perm_number>\\_\\<lab_number>.ipynb"
   ]
  },
  {
   "cell_type": "markdown",
   "metadata": {
    "id": "E-m6MO9p96nR"
   },
   "source": [
    "# Question 1"
   ]
  },
  {
   "cell_type": "markdown",
   "metadata": {
    "id": "OYP7Ulif9dUF"
   },
   "source": [
    "Given the following code snippet:\n",
    "\n",
    "```\n",
    "my_dict = {'a': 1, 'b': 2, 'c': 3}\n",
    "value = my_dict.get('d', 4)\n",
    "print(value)\n",
    "```\n",
    "\n",
    "What is the output of the code? \\\\\n",
    "A. 1 \\\\\n",
    "B. 3 \\\\\n",
    "C. 4 \\\\\n",
    "D. KeyError:"
   ]
  },
  {
   "cell_type": "code",
   "execution_count": null,
   "metadata": {
    "id": "Fg6opXD8Rve-"
   },
   "outputs": [],
   "source": [
    "def ans_q1():\n",
    "  return 'C'"
   ]
  },
  {
   "cell_type": "markdown",
   "metadata": {
    "id": "gDSMvvdr-Ebk"
   },
   "source": [
    "# Question 2"
   ]
  },
  {
   "cell_type": "markdown",
   "metadata": {
    "id": "fLwb2kuZ-IpG"
   },
   "source": [
    "What will be the output of the following code?\n",
    "\n",
    "```\n",
    "for num in range(2, 6):\n",
    "    if num % 2 == 0:\n",
    "        continue\n",
    "    print(num, end=' ')\n",
    "```\n",
    "\n",
    "A. 2 3 4 5 \\\\\n",
    "B. 3 5 \\\\\n",
    "C. 2 4 \\\\\n",
    "D. 2 3 4 5 \\\\"
   ]
  },
  {
   "cell_type": "code",
   "execution_count": null,
   "metadata": {
    "id": "1y8fNdMtuJ1O"
   },
   "outputs": [],
   "source": [
    "def ans_q2():\n",
    "  return 'B'"
   ]
  },
  {
   "cell_type": "markdown",
   "metadata": {
    "id": "yled4Qpp-xXU"
   },
   "source": [
    "# Question 3"
   ]
  },
  {
   "cell_type": "markdown",
   "metadata": {
    "id": "_NSdZDAe-0Jt"
   },
   "source": [
    "What is the correct way to define a function in Python?\n",
    "\n",
    "a) `def function_name:`  \n",
    "b) `def function_name():`  \n",
    "c) `function function_name():`  \n",
    "d) `def function_name:` "
   ]
  },
  {
   "cell_type": "code",
   "execution_count": null,
   "metadata": {
    "id": "dWEMXcXLuNFj"
   },
   "outputs": [],
   "source": [
    "def ans_q3():\n",
    "  return 'B'"
   ]
  },
  {
   "cell_type": "markdown",
   "metadata": {
    "id": "UptVUUp3_bD0"
   },
   "source": [
    "# Question 4\n"
   ]
  },
  {
   "cell_type": "markdown",
   "metadata": {
    "id": "EW0vvVTd_eeB"
   },
   "source": [
    "Which of the following is the correct way to create a dictionary where the keys are numbers from 1 to 5, and the values are their squares?\n",
    "\n",
    "A. ```dict_comp = {x: x**2 for x in range(1, 6)} ``` \\\\\n",
    "B. ```dict_comp = {x**2 for x in range(1, 6)} ``` \\\\\n",
    "C. ```dict_comp = dict(x: x**2 for x in range(1, 6)) ``` \\\\\n",
    "D. ```dict_comp = {x, x**2 for x in range(1, 6)} ```"
   ]
  },
  {
   "cell_type": "code",
   "execution_count": null,
   "metadata": {
    "id": "YEpUbXE7uQVX"
   },
   "outputs": [],
   "source": [
    "def ans_q4():\n",
    "  return 'A'"
   ]
  },
  {
   "cell_type": "markdown",
   "metadata": {
    "id": "Sq6lXhPDFS0I"
   },
   "source": [
    "# Question 5"
   ]
  },
  {
   "cell_type": "markdown",
   "metadata": {
    "id": "DRrbIVsnGEiv"
   },
   "source": [
    "Complete the code below for a Python function called ```word_frequencies``` that takes a string text as input and returns a dictionary where:\n",
    "\n",
    "Keys: Unique words in the text (converted to lowercase). \\\\\n",
    "Values: The number of times each word appears in the text. \\\\\n",
    "\n",
    "Requirements:\n",
    "\n",
    "Case Insensitivity: Treat uppercase and lowercase letters as the same (e.g., \"Word\" and \"word\" are the same). \\\\\n",
    "Punctuation: Ignore punctuation marks such as periods, commas, exclamation points, question marks, etc. \\\\\n",
    "Splitting Words: Use spaces to split the words. \\\\\n",
    "Exclude Empty Strings: Ensure that no empty strings are included as keys in the dictionary.\n",
    "\n",
    "For example:\n",
    "```\n",
    "text = \"Hello, world! This is a test. This test is only a test.\"\n",
    "frequencies = word_frequencies(text)\n",
    "print(frequencies)\n",
    "\n",
    "```\n",
    "\n",
    "Expected Output:\n",
    "```\n",
    "{\n",
    "    'hello': 1,\n",
    "    'world': 1,\n",
    "    'this': 2,\n",
    "    'is': 2,\n",
    "    'a': 2,\n",
    "    'test': 3,\n",
    "    'only': 1\n",
    "}\n",
    "\n",
    "```"
   ]
  },
  {
   "cell_type": "code",
   "execution_count": 1,
   "metadata": {
    "id": "_MpG9HmFHTeU"
   },
   "outputs": [],
   "source": [
    "# Complete the code below\n",
    "import string\n",
    "\n",
    "def word_frequencies(text):\n",
    "    # Convert text to lowercase\n",
    "    text = text.lower()\n",
    "\n",
    "    # Remove punctuation\n",
    "    translator = str.maketrans('', '', string.punctuation)\n",
    "    text = text.translate(translator)\n",
    "\n",
    "    # Split text into words based on blank space (' ')\n",
    "    words = text.split(' ')\n",
    "\n",
    "    # Initialize an empty dictionary\n",
    "    freq_dict = {}\n",
    "\n",
    "    # Iterate over the words and count frequencies\n",
    "    for word in words:\n",
    "        if word:  # Exclude empty strings\n",
    "            # populate dictionary\n",
    "            if word in freq_dict:\n",
    "                freq_dict[word] += 1\n",
    "            else:\n",
    "                freq_dict[word] = 1\n",
    "\n",
    "    return freq_dict"
   ]
  },
  {
   "cell_type": "code",
   "execution_count": 2,
   "metadata": {
    "colab": {
     "base_uri": "https://localhost:8080/"
    },
    "id": "Tr3nI0AbW9DR",
    "outputId": "395d097c-62f6-402c-ba5c-600ff2fe9b23"
   },
   "outputs": [
    {
     "name": "stdout",
     "output_type": "stream",
     "text": [
      "{'hello': 1, 'world': 1, 'this': 2, 'is': 2, 'a': 2, 'test': 3, 'only': 1}\n"
     ]
    }
   ],
   "source": [
    "# Example usage:\n",
    "text = \"Hello, world! This is a test. This test is only a test.\"\n",
    "frequencies = word_frequencies(text)\n",
    "print(frequencies)"
   ]
  },
  {
   "cell_type": "markdown",
   "metadata": {
    "id": "pUOIRXsDAQNg"
   },
   "source": [
    "# Question 6 (Adopted from Downey,Think Python, 3rd Edition)"
   ]
  },
  {
   "cell_type": "markdown",
   "metadata": {
    "id": "wEMjAittAR3H"
   },
   "source": [
    "Write a function named print_right that takes a string named text as a parameter and prints the string with enough leading spaces that the last letter of the string is in the 40th column of the display.\n",
    "\n",
    "Hint: Use the len function, the string concatenation operator (+) and the string repetition operator (*).\n",
    "\n",
    "The expected output is shown below."
   ]
  },
  {
   "cell_type": "code",
   "execution_count": 3,
   "metadata": {
    "id": "7lfXEJ8LDs6b"
   },
   "outputs": [],
   "source": [
    "# Insert your Python code below\n",
    "def print_right(text):\n",
    "    print(' ' * (40 - len(text)) + text)"
   ]
  },
  {
   "cell_type": "code",
   "execution_count": 4,
   "metadata": {
    "colab": {
     "base_uri": "https://localhost:8080/"
    },
    "id": "Jc-Zm3l8DUdv",
    "outputId": "8d8395da-6ba7-4f26-e9a4-3a10b1833166"
   },
   "outputs": [
    {
     "name": "stdout",
     "output_type": "stream",
     "text": [
      "                                   Monty\n",
      "                                Python's\n",
      "                           Flying Circus\n"
     ]
    }
   ],
   "source": [
    "print_right(\"Monty\")\n",
    "print_right(\"Python's\")\n",
    "print_right(\"Flying Circus\")\n"
   ]
  },
  {
   "cell_type": "markdown",
   "metadata": {
    "id": "AdOgnv02i_8V"
   },
   "source": [
    "The expected output is as follows\n",
    "\n",
    "                                   Monty\n",
    "                                Python's\n",
    "                           Flying Circus\n"
   ]
  }
 ],
 "metadata": {
  "colab": {
   "provenance": []
  },
  "kernelspec": {
   "display_name": "Python 3 (ipykernel)",
   "language": "python",
   "name": "python3"
  },
  "language_info": {
   "codemirror_mode": {
    "name": "ipython",
    "version": 3
   },
   "file_extension": ".py",
   "mimetype": "text/x-python",
   "name": "python",
   "nbconvert_exporter": "python",
   "pygments_lexer": "ipython3",
   "version": "3.11.4"
  }
 },
 "nbformat": 4,
 "nbformat_minor": 4
}
