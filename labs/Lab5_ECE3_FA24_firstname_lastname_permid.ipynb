{
 "cells": [
  {
   "cell_type": "markdown",
   "metadata": {
    "id": "qiEY2KX6P9-D"
   },
   "source": [
    "# Lab 5\n",
    "### Due by 11:59pm, Sunday, November 10th.\n",
    "#### Submission: Please replace firstname, lastname and permid in the file name with yours before submitting on Canvas.\n",
    "Reminder: For Multiple Choice Questions, your answers should be formatted as follows:\n",
    "```python\n",
    "def ans_q1():\n",
    "  return 'C' # if the C is the selected option\n",
    "  # Please only add the option and nothing more.\n",
    "```\n",
    "## Grading\n",
    "Multiple Choice, T/F, Fill-in-the-blank Questions: 10% each. Programming Questions: 25% each."
   ]
  },
  {
   "cell_type": "markdown",
   "metadata": {
    "id": "sLjWJGK-b9y2"
   },
   "source": [
    "Lab Section ID: (Enter your lab section below)"
   ]
  },
  {
   "cell_type": "markdown",
   "metadata": {
    "id": "JDP8bfcBcMBE"
   },
   "source": [
    "Thursday 7pm"
   ]
  },
  {
   "cell_type": "markdown",
   "metadata": {
    "id": "TJho0p-BgT6I"
   },
   "source": [
    "### Multiple Choice, T/F, Fill-in-the-blank Questions:\n",
    "\n",
    "Q1. If a class `Child` inherits from a class `Parent`, and both classes have a method called `display()`, which method will be called when `display()` is invoked on an instance of `Child`?\n",
    "\n",
    "**A)** The `display()` method of `Parent`  \n",
    "**B)** The `display()` method of `Child`  \n",
    "**C)** Both methods will be called  \n",
    "**D)** An error will be raised due to the naming conflict"
   ]
  },
  {
   "cell_type": "code",
   "execution_count": null,
   "metadata": {
    "id": "LA4ZJADOic95"
   },
   "outputs": [],
   "source": [
    "def ans_q1():\n",
    "  return 'B'"
   ]
  },
  {
   "cell_type": "markdown",
   "metadata": {
    "id": "yfsit_HYicbf"
   },
   "source": [
    "Q2: Which of the following object oriented programming features is not supported by Python?\n",
    "\n",
    "**A)** The ability of a class to inherit from multiple classes.\n",
    "\n",
    "**B)** The ability of different classes to have methods with the same name, which can be called interchangeably based on the object type.\n",
    "\n",
    "**C)** The ability to have multiple methods in a class with the same name but different signatures.\n",
    "\n",
    "**D)** The ability to restrict access to a data member (property) of a class through getter and setter methods by declaring the property as private (Strict enforcement not required).\n"
   ]
  },
  {
   "cell_type": "code",
   "execution_count": null,
   "metadata": {
    "id": "V8GyVR2riRi6"
   },
   "outputs": [],
   "source": [
    "def ans_q2():\n",
    "  return 'C'"
   ]
  },
  {
   "cell_type": "markdown",
   "metadata": {
    "id": "eUsmB_zjiM2_"
   },
   "source": [
    "Q3. Which of the following is not a requirement for using the Unittest framework?\n",
    "\n",
    "A. Import the unittest module.\n",
    "\n",
    "B. Create a Test Case class named Test_ClassName that inherits from unittest.TestCase where ClasName is the name of the class to be tested.\n",
    "\n",
    "C. Define test methods whose names start with the word \"test\".\n",
    "\n",
    "D. Use unittest.main() to run the test cases."
   ]
  },
  {
   "cell_type": "code",
   "execution_count": 10,
   "metadata": {
    "id": "-EmusubBiNUs"
   },
   "outputs": [],
   "source": [
    "def ans_q3():\n",
    "  return 'D'"
   ]
  },
  {
   "cell_type": "markdown",
   "metadata": {
    "id": "4Syp3ZEcBmqm"
   },
   "source": [
    "Q4. In `matplotlib`, what does the command `plt.plot(x, y)` do?\n",
    "   \n",
    "   A. Creates a scatter plot with the values in x on the horizontal axis and y values in the vertical axis.\n",
    "  \n",
    "   B. Creates a line plot with the values in x on the horizontal axis and y values in the vertical axis.\n",
    "   \n",
    "   C. Plots a bar chart with the values in x on the horizontal axis and y values as bars.\n",
    "   \n",
    "   D. Displays a table with columns x and y."
   ]
  },
  {
   "cell_type": "code",
   "execution_count": 11,
   "metadata": {
    "id": "QIydHN52CC3V"
   },
   "outputs": [],
   "source": [
    "def ans_q4():\n",
    "  return 'B'"
   ]
  },
  {
   "cell_type": "markdown",
   "metadata": {
    "id": "coVhfPvPPYPm"
   },
   "source": [
    "Q5: Which of the following commands displays a plot in Matplotlib when using the `pyplot` module?\n",
    "\n",
    "**A)** `plt.plot()`  \n",
    "**B)** `plt.show()`  \n",
    "**C)** `plt.figure()`  \n",
    "**D)** `plt.title()`"
   ]
  },
  {
   "cell_type": "code",
   "execution_count": 12,
   "metadata": {
    "id": "v3eZCq3LPbbO"
   },
   "outputs": [],
   "source": [
    "def ans_q5():\n",
    "  return 'B'"
   ]
  },
  {
   "cell_type": "markdown",
   "metadata": {
    "id": "maAuZp9H53r7"
   },
   "source": [
    "# Programming Questions:"
   ]
  },
  {
   "cell_type": "markdown",
   "metadata": {
    "id": "__5qAkQf57t1"
   },
   "source": [
    "INSTRUCTIONS: Write function, class or method definition(s) as described. If a template is provided, insert code or make changes only where specified. **Do not modify the names of the functions, methods or classes provided in the question or the template.**"
   ]
  },
  {
   "cell_type": "markdown",
   "metadata": {
    "id": "AYxMntIGgVRu"
   },
   "source": [
    "Q6. Create a class hierarchy for shapes in Python.\n",
    "   - Create a base class `Shape` with a method `area()` that returns 0.\n",
    "   - Create two subclasses, `Rectangle` and `Circle`, which override the `area()` method.\n",
    "     - For `Rectangle`, take `width` and `height` as attributes and calculate the area as `width * height`.\n",
    "     - For `Circle`, take `radius` as an attribute and calculate the area using `π * radius^2` (use `math.pi` for π).\n",
    "   - Create instances of `Rectangle` and `Circle`, and demonstrate polymorphism by calling the `area()` method on a Rectangle object and Circle object.\n",
    "\n",
    "A part of the code is already written for you."
   ]
  },
  {
   "cell_type": "code",
   "execution_count": 1,
   "metadata": {
    "id": "rtcPYCRnxEJF"
   },
   "outputs": [
    {
     "name": "stdout",
     "output_type": "stream",
     "text": [
      "50.0\n",
      "3.141592653589793\n"
     ]
    }
   ],
   "source": [
    "import math\n",
    "from cffi import FFI\n",
    "\n",
    "ffi = FFI()\n",
    "# C file\n",
    "ffi.set_source(\"_areas\", \"double rect_area(double w,double h){return w*h;}double circle_area(double pi,double r){return pi*r*r;}\")\n",
    "# Header file\n",
    "ffi.cdef(\"double rect_area(double,double);double circle_area(double,double);\")\n",
    "ffi.compile()\n",
    "from _areas import lib     # import the compiled library\n",
    "\n",
    "### Define Shape class here\n",
    "class Shape:\n",
    "    def area(self):\n",
    "        return 0\n",
    "### END of Shape Class\n",
    "\n",
    "### Define the Rectangle class here\n",
    "class Rectangle(Shape):\n",
    "    def __init__(self, width, height):\n",
    "        self.width = width\n",
    "        self.height = height\n",
    "    \n",
    "    def area(self):\n",
    "        return lib.rect_area(self.width, self.height)\n",
    "### END of Rectangle Class\n",
    "\n",
    "### Define the Cirlce class here\n",
    "class Circle(Shape):\n",
    "    def __init__(self, radius):\n",
    "        self.radius = radius\n",
    "    \n",
    "    def area(self):\n",
    "        return lib.circle_area(math.pi, self.radius)\n",
    "### END of Circle Class\n",
    "\n",
    "rect = Rectangle(10, 5)\n",
    "circle = Circle(1)\n",
    "print(rect.area())\n",
    "print(circle.area())"
   ]
  },
  {
   "cell_type": "markdown",
   "metadata": {
    "id": "FE5Hzohog1bg"
   },
   "source": [
    "\n",
    "Q7: Write a Python program that produces a line plot of the cosine function over the range of angles from 0 to 360 degrees. In your plot, set a title, x axis label, y axis label, and a legend. A part of the code is already written for you."
   ]
  },
  {
   "cell_type": "code",
   "execution_count": 14,
   "metadata": {
    "id": "Za-CrBsRhOtx"
   },
   "outputs": [
    {
     "data": {
      "image/png": "[encoded data removed]",
      "text/plain": [
       "<Figure size 640x480 with 1 Axes>"
      ]
     },
     "metadata": {},
     "output_type": "display_data"
    }
   ],
   "source": [
    "import numpy as np\n",
    "import matplotlib.pyplot as plt\n",
    "\n",
    "# Generate an array of angles from 0 to 360 degrees and convert them to radians\n",
    "angles_deg = np.linspace(0, 360, 100)\n",
    "angles_rad = np.radians(angles_deg)\n",
    "\n",
    "# Calculate cosine values for each angle in radians\n",
    "cosine_values = np.cos(angles_rad)\n",
    "\n",
    "# Add your code below\n",
    "plt.xlabel(\"angle\")\n",
    "plt.ylabel(\"cosine\")\n",
    "plt.title(\"Cosine Function\")\n",
    "plt.plot(angles_deg, cosine_values, label=\"cosine\")\n",
    "plt.legend(loc=\"upper left\")\n",
    "plt.show()"
   ]
  }
 ],
 "metadata": {
  "colab": {
   "provenance": [
    {
     "file_id": "13uK-5WlmMECJw40X1D9TyippE3kktuCm",
     "timestamp": 1729228000865
    },
    {
     "file_id": "1UiH1JAdtAx71JoEaMD20BAgBkluPUTZg",
     "timestamp": 1729225300565
    }
   ]
  },
  "kernelspec": {
   "display_name": "Python 3 (ipykernel)",
   "language": "python",
   "name": "python3"
  },
  "language_info": {
   "codemirror_mode": {
    "name": "ipython",
    "version": 3
   },
   "file_extension": ".py",
   "mimetype": "text/x-python",
   "name": "python",
   "nbconvert_exporter": "python",
   "pygments_lexer": "ipython3",
   "version": "3.11.4"
  }
 },
 "nbformat": 4,
 "nbformat_minor": 4
}
